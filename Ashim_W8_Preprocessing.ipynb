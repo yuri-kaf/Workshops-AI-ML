{
  "nbformat": 4,
  "nbformat_minor": 0,
  "metadata": {
    "colab": {
      "provenance": [],
      "gpuType": "T4"
    },
    "kernelspec": {
      "name": "python3",
      "display_name": "Python 3"
    },
    "language_info": {
      "name": "python"
    },
    "accelerator": "GPU"
  },
  "cells": [
    {
      "cell_type": "markdown",
      "source": [
        "# Part -1 (class work) : Text Pre-processing in NLP."
      ],
      "metadata": {
        "id": "OhlpXCuxgjcz"
      }
    },
    {
      "cell_type": "markdown",
      "source": [
        "# Basics of Text Data Cleaning.\n",
        "## Instructions and Requirements:\n",
        "\n",
        "In this Notebook we will evaluate few basic text data cleaning techniques which are modt for any NLP tasks.\n",
        "\n",
        "This Notebook make uses of \"NLTK\" and \"Regex\" Library a lot.\n",
        "\n",
        "Dataset: \"trump_tweets.csv\"\n",
        "\n",
        "This week workshop will have two sections:\n",
        "\n",
        "To DO:\n",
        "\n",
        "Do - 1 - Read the code provided, understand there usages and Complete Exercise-1, which is at bottom.\n",
        "\n",
        "\n",
        "Do - 2 - Based on your implementations Demonstrate the importance of Text pre - processing in NLP (one per group).\n",
        "\n",
        "\n",
        "\n"
      ],
      "metadata": {
        "id": "j4uXHkcTye9E"
      }
    },
    {
      "cell_type": "markdown",
      "source": [
        "## Time to Complete- 90 mins."
      ],
      "metadata": {
        "id": "1D51iRO5y_4h"
      }
    },
    {
      "cell_type": "markdown",
      "source": [
        "The first step in any Natural Language Processing task is to pre-process the text dataset. The main goal of this step is to remove noise from the data. The noise in text data can be in different form, so in this section we will look into some common datacleaning task performed before any NLP task.\n"
      ],
      "metadata": {
        "id": "e4nWaNEizFP5"
      }
    },
    {
      "cell_type": "markdown",
      "source": [
        " Terminology Alert!!!\n",
        "*   Document: A distinct unit of text. This could be a sentence, paragraph or an artice.\n",
        "\n",
        "  Example:\n",
        "\n",
        "1. doc1==> \"How are you?\"\n",
        "2. doc2==> \"I go to school.\"\n",
        "*   Corpus: collection of documents.\n",
        "\n",
        "Example: corpus=[doc1, doc2]\n"
      ],
      "metadata": {
        "id": "omu01q0ih_d9"
      }
    },
    {
      "cell_type": "markdown",
      "source": [
        "### Read the data."
      ],
      "metadata": {
        "id": "sk-NyJS0i6FW"
      }
    },
    {
      "cell_type": "code",
      "execution_count": null,
      "metadata": {
        "id": "AGKXNaCcyTYk"
      },
      "outputs": [],
      "source": [
        "import pandas as pd\n",
        "import numpy as np"
      ]
    },
    {
      "cell_type": "code",
      "source": [
        "df = pd.read_csv('/content/trumptweets_small.csv')"
      ],
      "metadata": {
        "id": "LbPIuZ54jF7Q"
      },
      "execution_count": null,
      "outputs": []
    },
    {
      "cell_type": "code",
      "source": [
        "df_text=df[['content']]"
      ],
      "metadata": {
        "id": "aBNMcdEQjK7i"
      },
      "execution_count": null,
      "outputs": []
    },
    {
      "cell_type": "code",
      "source": [
        "df_text.dropna()"
      ],
      "metadata": {
        "colab": {
          "base_uri": "https://localhost:8080/",
          "height": 424
        },
        "id": "n0b6xAEwjosC",
        "outputId": "85cc5361-6d86-492d-9591-60a9d3695fc8"
      },
      "execution_count": null,
      "outputs": [
        {
          "output_type": "execute_result",
          "data": {
            "text/plain": [
              "                                                 content\n",
              "0      Be sure to tune in and watch Donald Trump on L...\n",
              "1      Donald Trump will be appearing on The View tom...\n",
              "2      Donald Trump reads Top Ten Financial Tips on L...\n",
              "3      New Blog Post: Celebrity Apprentice Finale and...\n",
              "4      \"My persona will never be that of a wallflower...\n",
              "...                                                  ...\n",
              "41117  I have never seen the Republican Party as Stro...\n",
              "41118  Now Mini Mike Bloomberg is critical of Jack Wi...\n",
              "41119  I was thrilled to be back in the Great State o...\n",
              "41120  “In the House, the President got less due proc...\n",
              "41121  A great show! Check it out tonight at 9pm. @ F...\n",
              "\n",
              "[41122 rows x 1 columns]"
            ],
            "text/html": [
              "\n",
              "  <div id=\"df-e0db52bb-5793-44b9-a45b-999a38c9a4f4\" class=\"colab-df-container\">\n",
              "    <div>\n",
              "<style scoped>\n",
              "    .dataframe tbody tr th:only-of-type {\n",
              "        vertical-align: middle;\n",
              "    }\n",
              "\n",
              "    .dataframe tbody tr th {\n",
              "        vertical-align: top;\n",
              "    }\n",
              "\n",
              "    .dataframe thead th {\n",
              "        text-align: right;\n",
              "    }\n",
              "</style>\n",
              "<table border=\"1\" class=\"dataframe\">\n",
              "  <thead>\n",
              "    <tr style=\"text-align: right;\">\n",
              "      <th></th>\n",
              "      <th>content</th>\n",
              "    </tr>\n",
              "  </thead>\n",
              "  <tbody>\n",
              "    <tr>\n",
              "      <th>0</th>\n",
              "      <td>Be sure to tune in and watch Donald Trump on L...</td>\n",
              "    </tr>\n",
              "    <tr>\n",
              "      <th>1</th>\n",
              "      <td>Donald Trump will be appearing on The View tom...</td>\n",
              "    </tr>\n",
              "    <tr>\n",
              "      <th>2</th>\n",
              "      <td>Donald Trump reads Top Ten Financial Tips on L...</td>\n",
              "    </tr>\n",
              "    <tr>\n",
              "      <th>3</th>\n",
              "      <td>New Blog Post: Celebrity Apprentice Finale and...</td>\n",
              "    </tr>\n",
              "    <tr>\n",
              "      <th>4</th>\n",
              "      <td>\"My persona will never be that of a wallflower...</td>\n",
              "    </tr>\n",
              "    <tr>\n",
              "      <th>...</th>\n",
              "      <td>...</td>\n",
              "    </tr>\n",
              "    <tr>\n",
              "      <th>41117</th>\n",
              "      <td>I have never seen the Republican Party as Stro...</td>\n",
              "    </tr>\n",
              "    <tr>\n",
              "      <th>41118</th>\n",
              "      <td>Now Mini Mike Bloomberg is critical of Jack Wi...</td>\n",
              "    </tr>\n",
              "    <tr>\n",
              "      <th>41119</th>\n",
              "      <td>I was thrilled to be back in the Great State o...</td>\n",
              "    </tr>\n",
              "    <tr>\n",
              "      <th>41120</th>\n",
              "      <td>“In the House, the President got less due proc...</td>\n",
              "    </tr>\n",
              "    <tr>\n",
              "      <th>41121</th>\n",
              "      <td>A great show! Check it out tonight at 9pm. @ F...</td>\n",
              "    </tr>\n",
              "  </tbody>\n",
              "</table>\n",
              "<p>41122 rows × 1 columns</p>\n",
              "</div>\n",
              "    <div class=\"colab-df-buttons\">\n",
              "\n",
              "  <div class=\"colab-df-container\">\n",
              "    <button class=\"colab-df-convert\" onclick=\"convertToInteractive('df-e0db52bb-5793-44b9-a45b-999a38c9a4f4')\"\n",
              "            title=\"Convert this dataframe to an interactive table.\"\n",
              "            style=\"display:none;\">\n",
              "\n",
              "  <svg xmlns=\"http://www.w3.org/2000/svg\" height=\"24px\" viewBox=\"0 -960 960 960\">\n",
              "    <path d=\"M120-120v-720h720v720H120Zm60-500h600v-160H180v160Zm220 220h160v-160H400v160Zm0 220h160v-160H400v160ZM180-400h160v-160H180v160Zm440 0h160v-160H620v160ZM180-180h160v-160H180v160Zm440 0h160v-160H620v160Z\"/>\n",
              "  </svg>\n",
              "    </button>\n",
              "\n",
              "  <style>\n",
              "    .colab-df-container {\n",
              "      display:flex;\n",
              "      gap: 12px;\n",
              "    }\n",
              "\n",
              "    .colab-df-convert {\n",
              "      background-color: #E8F0FE;\n",
              "      border: none;\n",
              "      border-radius: 50%;\n",
              "      cursor: pointer;\n",
              "      display: none;\n",
              "      fill: #1967D2;\n",
              "      height: 32px;\n",
              "      padding: 0 0 0 0;\n",
              "      width: 32px;\n",
              "    }\n",
              "\n",
              "    .colab-df-convert:hover {\n",
              "      background-color: #E2EBFA;\n",
              "      box-shadow: 0px 1px 2px rgba(60, 64, 67, 0.3), 0px 1px 3px 1px rgba(60, 64, 67, 0.15);\n",
              "      fill: #174EA6;\n",
              "    }\n",
              "\n",
              "    .colab-df-buttons div {\n",
              "      margin-bottom: 4px;\n",
              "    }\n",
              "\n",
              "    [theme=dark] .colab-df-convert {\n",
              "      background-color: #3B4455;\n",
              "      fill: #D2E3FC;\n",
              "    }\n",
              "\n",
              "    [theme=dark] .colab-df-convert:hover {\n",
              "      background-color: #434B5C;\n",
              "      box-shadow: 0px 1px 3px 1px rgba(0, 0, 0, 0.15);\n",
              "      filter: drop-shadow(0px 1px 2px rgba(0, 0, 0, 0.3));\n",
              "      fill: #FFFFFF;\n",
              "    }\n",
              "  </style>\n",
              "\n",
              "    <script>\n",
              "      const buttonEl =\n",
              "        document.querySelector('#df-e0db52bb-5793-44b9-a45b-999a38c9a4f4 button.colab-df-convert');\n",
              "      buttonEl.style.display =\n",
              "        google.colab.kernel.accessAllowed ? 'block' : 'none';\n",
              "\n",
              "      async function convertToInteractive(key) {\n",
              "        const element = document.querySelector('#df-e0db52bb-5793-44b9-a45b-999a38c9a4f4');\n",
              "        const dataTable =\n",
              "          await google.colab.kernel.invokeFunction('convertToInteractive',\n",
              "                                                    [key], {});\n",
              "        if (!dataTable) return;\n",
              "\n",
              "        const docLinkHtml = 'Like what you see? Visit the ' +\n",
              "          '<a target=\"_blank\" href=https://colab.research.google.com/notebooks/data_table.ipynb>data table notebook</a>'\n",
              "          + ' to learn more about interactive tables.';\n",
              "        element.innerHTML = '';\n",
              "        dataTable['output_type'] = 'display_data';\n",
              "        await google.colab.output.renderOutput(dataTable, element);\n",
              "        const docLink = document.createElement('div');\n",
              "        docLink.innerHTML = docLinkHtml;\n",
              "        element.appendChild(docLink);\n",
              "      }\n",
              "    </script>\n",
              "  </div>\n",
              "\n",
              "\n",
              "<div id=\"df-5ae4fa0a-183e-438a-9e7f-2b51cdd066b8\">\n",
              "  <button class=\"colab-df-quickchart\" onclick=\"quickchart('df-5ae4fa0a-183e-438a-9e7f-2b51cdd066b8')\"\n",
              "            title=\"Suggest charts\"\n",
              "            style=\"display:none;\">\n",
              "\n",
              "<svg xmlns=\"http://www.w3.org/2000/svg\" height=\"24px\"viewBox=\"0 0 24 24\"\n",
              "     width=\"24px\">\n",
              "    <g>\n",
              "        <path d=\"M19 3H5c-1.1 0-2 .9-2 2v14c0 1.1.9 2 2 2h14c1.1 0 2-.9 2-2V5c0-1.1-.9-2-2-2zM9 17H7v-7h2v7zm4 0h-2V7h2v10zm4 0h-2v-4h2v4z\"/>\n",
              "    </g>\n",
              "</svg>\n",
              "  </button>\n",
              "\n",
              "<style>\n",
              "  .colab-df-quickchart {\n",
              "      --bg-color: #E8F0FE;\n",
              "      --fill-color: #1967D2;\n",
              "      --hover-bg-color: #E2EBFA;\n",
              "      --hover-fill-color: #174EA6;\n",
              "      --disabled-fill-color: #AAA;\n",
              "      --disabled-bg-color: #DDD;\n",
              "  }\n",
              "\n",
              "  [theme=dark] .colab-df-quickchart {\n",
              "      --bg-color: #3B4455;\n",
              "      --fill-color: #D2E3FC;\n",
              "      --hover-bg-color: #434B5C;\n",
              "      --hover-fill-color: #FFFFFF;\n",
              "      --disabled-bg-color: #3B4455;\n",
              "      --disabled-fill-color: #666;\n",
              "  }\n",
              "\n",
              "  .colab-df-quickchart {\n",
              "    background-color: var(--bg-color);\n",
              "    border: none;\n",
              "    border-radius: 50%;\n",
              "    cursor: pointer;\n",
              "    display: none;\n",
              "    fill: var(--fill-color);\n",
              "    height: 32px;\n",
              "    padding: 0;\n",
              "    width: 32px;\n",
              "  }\n",
              "\n",
              "  .colab-df-quickchart:hover {\n",
              "    background-color: var(--hover-bg-color);\n",
              "    box-shadow: 0 1px 2px rgba(60, 64, 67, 0.3), 0 1px 3px 1px rgba(60, 64, 67, 0.15);\n",
              "    fill: var(--button-hover-fill-color);\n",
              "  }\n",
              "\n",
              "  .colab-df-quickchart-complete:disabled,\n",
              "  .colab-df-quickchart-complete:disabled:hover {\n",
              "    background-color: var(--disabled-bg-color);\n",
              "    fill: var(--disabled-fill-color);\n",
              "    box-shadow: none;\n",
              "  }\n",
              "\n",
              "  .colab-df-spinner {\n",
              "    border: 2px solid var(--fill-color);\n",
              "    border-color: transparent;\n",
              "    border-bottom-color: var(--fill-color);\n",
              "    animation:\n",
              "      spin 1s steps(1) infinite;\n",
              "  }\n",
              "\n",
              "  @keyframes spin {\n",
              "    0% {\n",
              "      border-color: transparent;\n",
              "      border-bottom-color: var(--fill-color);\n",
              "      border-left-color: var(--fill-color);\n",
              "    }\n",
              "    20% {\n",
              "      border-color: transparent;\n",
              "      border-left-color: var(--fill-color);\n",
              "      border-top-color: var(--fill-color);\n",
              "    }\n",
              "    30% {\n",
              "      border-color: transparent;\n",
              "      border-left-color: var(--fill-color);\n",
              "      border-top-color: var(--fill-color);\n",
              "      border-right-color: var(--fill-color);\n",
              "    }\n",
              "    40% {\n",
              "      border-color: transparent;\n",
              "      border-right-color: var(--fill-color);\n",
              "      border-top-color: var(--fill-color);\n",
              "    }\n",
              "    60% {\n",
              "      border-color: transparent;\n",
              "      border-right-color: var(--fill-color);\n",
              "    }\n",
              "    80% {\n",
              "      border-color: transparent;\n",
              "      border-right-color: var(--fill-color);\n",
              "      border-bottom-color: var(--fill-color);\n",
              "    }\n",
              "    90% {\n",
              "      border-color: transparent;\n",
              "      border-bottom-color: var(--fill-color);\n",
              "    }\n",
              "  }\n",
              "</style>\n",
              "\n",
              "  <script>\n",
              "    async function quickchart(key) {\n",
              "      const quickchartButtonEl =\n",
              "        document.querySelector('#' + key + ' button');\n",
              "      quickchartButtonEl.disabled = true;  // To prevent multiple clicks.\n",
              "      quickchartButtonEl.classList.add('colab-df-spinner');\n",
              "      try {\n",
              "        const charts = await google.colab.kernel.invokeFunction(\n",
              "            'suggestCharts', [key], {});\n",
              "      } catch (error) {\n",
              "        console.error('Error during call to suggestCharts:', error);\n",
              "      }\n",
              "      quickchartButtonEl.classList.remove('colab-df-spinner');\n",
              "      quickchartButtonEl.classList.add('colab-df-quickchart-complete');\n",
              "    }\n",
              "    (() => {\n",
              "      let quickchartButtonEl =\n",
              "        document.querySelector('#df-5ae4fa0a-183e-438a-9e7f-2b51cdd066b8 button');\n",
              "      quickchartButtonEl.style.display =\n",
              "        google.colab.kernel.accessAllowed ? 'block' : 'none';\n",
              "    })();\n",
              "  </script>\n",
              "</div>\n",
              "\n",
              "    </div>\n",
              "  </div>\n"
            ],
            "application/vnd.google.colaboratory.intrinsic+json": {
              "type": "dataframe",
              "summary": "{\n  \"name\": \"df_text\",\n  \"rows\": 41122,\n  \"fields\": [\n    {\n      \"column\": \"content\",\n      \"properties\": {\n        \"dtype\": \"string\",\n        \"num_unique_values\": 40909,\n        \"samples\": [\n          \"Will @ JebBush, in his phony advertising campaign, show himself asking me to apologize to his wife in the debate?\",\n          \"China watched Obama\\u2019s press conference yesterday salivating. We will be borrowing trillions more from them.\",\n          \"Don't forget the Miss USA Pageant, live on Sunday night at 9 pm ET on NBC. And you can vote for your favorite beauty! http://bit.ly/3OkYR3\"\n        ],\n        \"semantic_type\": \"\",\n        \"description\": \"\"\n      }\n    }\n  ]\n}"
            }
          },
          "metadata": {},
          "execution_count": 20
        }
      ]
    },
    {
      "cell_type": "markdown",
      "source": [
        "## Removing Unwanted Text."
      ],
      "metadata": {
        "id": "TMImVe9kj93A"
      }
    },
    {
      "cell_type": "markdown",
      "source": [
        "### Remove URLS:\n",
        "\n",
        "In this step we will try to remove URLs."
      ],
      "metadata": {
        "id": "1fBGBLrhkD7j"
      }
    },
    {
      "cell_type": "code",
      "source": [
        "import re\n",
        "def remove_urls(text):\n",
        "  \"\"\"\n",
        "  This function will try to remove URL present in out dataset and replace it with space using regex library.\n",
        "  Input Args:\n",
        "  text: strings of text that may contain URLs.\n",
        "  Output Args:\n",
        "  text: URLs replaces with text\n",
        "  \"\"\"\n",
        "  url_pattern = re.compile(r'https?://\\S+|www\\.\\S+')\n",
        "  return url_pattern.sub(r'', text)\n"
      ],
      "metadata": {
        "id": "NCrpvgmMjzLC"
      },
      "execution_count": null,
      "outputs": []
    },
    {
      "cell_type": "code",
      "source": [
        "text = \" Click on this link to open facebook https://www.facebook.com/\"\n",
        "text_url = remove_urls(text)"
      ],
      "metadata": {
        "id": "xhJhXtBsk_bS"
      },
      "execution_count": null,
      "outputs": []
    },
    {
      "cell_type": "code",
      "source": [
        "text_url"
      ],
      "metadata": {
        "colab": {
          "base_uri": "https://localhost:8080/",
          "height": 35
        },
        "id": "mif6MLSilLih",
        "outputId": "87166ed8-1328-44c5-f4b0-9d124c6bdc3b"
      },
      "execution_count": null,
      "outputs": [
        {
          "output_type": "execute_result",
          "data": {
            "text/plain": [
              "' Click on this link to open facebook '"
            ],
            "application/vnd.google.colaboratory.intrinsic+json": {
              "type": "string"
            }
          },
          "metadata": {},
          "execution_count": 23
        }
      ]
    },
    {
      "cell_type": "code",
      "source": [
        "text_no_url = df_text[\"content\"].apply(remove_urls)\n"
      ],
      "metadata": {
        "id": "ng2ctldGlNsA"
      },
      "execution_count": null,
      "outputs": []
    },
    {
      "cell_type": "markdown",
      "source": [
        "### Remove Unwanted Characters.\n",
        "\n",
        "This may be punctuatuion, numbers, emoji, dates etc.\n",
        "\n",
        "[ It depends on dataset and task we are performing. For example, The dataset we are using is scraped from twitter- Thus we will also try to remove @tag and #mentions  from the dataset.]\n",
        "\n"
      ],
      "metadata": {
        "id": "pJBbtnrvpUfN"
      }
    },
    {
      "cell_type": "markdown",
      "source": [
        "sample = \"Hello @gabe_flomo 👋🏾, still want us to hit that new sushi spot??? LMK when you're free cuz I can't go this or next weekend since I'll be swimming!!! #sushiBros #rawFish #🍱"
      ],
      "metadata": {
        "id": "0FTb1KDasYoW"
      }
    },
    {
      "cell_type": "markdown",
      "source": [
        "### Remove Emojis:\n"
      ],
      "metadata": {
        "id": "1FyfImm1qI4n"
      }
    },
    {
      "cell_type": "code",
      "source": [
        "def remove_emoji(string):\n",
        "  \"\"\"\n",
        "  This function will replace the emoji in string with whitespace\n",
        "  \"\"\"\n",
        "  emoji_pattern = re.compile(\"[\"\n",
        "                           u\"\\U0001F600-\\U0001F64F\"  # emoticons\n",
        "                           u\"\\U0001F300-\\U0001F5FF\"  # symbols & pictographs\n",
        "                           u\"\\U0001F680-\\U0001F6FF\"  # transport & map symbols\n",
        "                           u\"\\U0001F1E0-\\U0001F1FF\"  # flags (iOS)\n",
        "                           u\"\\U00002702-\\U000027B0\"\n",
        "                           u\"\\U000024C2-\\U0001F251\"\n",
        "                           \"]+\", flags=re.UNICODE)\n",
        "  return emoji_pattern.sub(r' ', string)"
      ],
      "metadata": {
        "id": "MbjVoc2Pudwf"
      },
      "execution_count": null,
      "outputs": []
    },
    {
      "cell_type": "code",
      "source": [
        "test_string = \"Hello @siman 👋🏾, still on up for the movie???  #MovieNight #friday #🍱\"\n",
        "no_emoji = remove_emoji(test_string)\n",
        "no_emoji"
      ],
      "metadata": {
        "colab": {
          "base_uri": "https://localhost:8080/",
          "height": 35
        },
        "id": "2yLWxJJ7ujHf",
        "outputId": "e8fac06e-ad27-4eef-8456-2fb201facaa5"
      },
      "execution_count": null,
      "outputs": [
        {
          "output_type": "execute_result",
          "data": {
            "text/plain": [
              "'Hello @siman  , still on up for the movie???  #MovieNight #friday # '"
            ],
            "application/vnd.google.colaboratory.intrinsic+json": {
              "type": "string"
            }
          },
          "metadata": {},
          "execution_count": 26
        }
      ]
    },
    {
      "cell_type": "markdown",
      "source": [
        "### Remove Everyunwanted characters:\n",
        "\n",
        "We will try to compile everything into one single function to remove everthings."
      ],
      "metadata": {
        "id": "bz7La4P9vg2e"
      }
    },
    {
      "cell_type": "code",
      "source": [
        "def removeunwanted_characters(document):\n",
        "  \"\"\"\n",
        "  This function will remove all the unwanted characters from the input dataset.\n",
        "  Input Args:\n",
        "  documet: A text data to be cleaned.\n",
        "  Return:\n",
        "  A cleaned document.\n",
        "  \"\"\"\n",
        "  # remove user mentions\n",
        "  document = re.sub(\"@[A-Za-z0-9_]+\",\" \", document)\n",
        "  # remove hashtags\n",
        "  document = re.sub(\"#[A-Za-z0-9_]+\",\"\", document)\n",
        "  # remove punctuation\n",
        "  document = re.sub(\"[^0-9A-Za-z ]\", \"\" , document)\n",
        "  #remove emojis\n",
        "  document = remove_emoji(document)\n",
        "  # remove double spaces\n",
        "  document = document.replace('  ',\"\")\n",
        "  return document.strip()"
      ],
      "metadata": {
        "id": "3noeEoWwsu_j"
      },
      "execution_count": null,
      "outputs": []
    },
    {
      "cell_type": "code",
      "source": [
        "# Test:\n",
        "cleaned_string = removeunwanted_characters(test_string)\n",
        "cleaned_string\n"
      ],
      "metadata": {
        "colab": {
          "base_uri": "https://localhost:8080/",
          "height": 35
        },
        "id": "9vwErIVTwl0N",
        "outputId": "dca3f7a5-d1fb-41dd-e690-52efe631c960"
      },
      "execution_count": null,
      "outputs": [
        {
          "output_type": "execute_result",
          "data": {
            "text/plain": [
              "'Hellostill on up for the movie'"
            ],
            "application/vnd.google.colaboratory.intrinsic+json": {
              "type": "string"
            }
          },
          "metadata": {},
          "execution_count": 28
        }
      ]
    },
    {
      "cell_type": "code",
      "source": [
        "text_removed_unwanted = df_text[\"content\"].apply(removeunwanted_characters)\n"
      ],
      "metadata": {
        "id": "zfAyI4OQv81M"
      },
      "execution_count": null,
      "outputs": []
    },
    {
      "cell_type": "markdown",
      "source": [
        "### Tokenizations:\n",
        "\n",
        "Example:\n",
        "\n",
        "IN:\n",
        "\n",
        "\"He did not try to navigate after the first bold flight, for the reaction had taken something out of his soul.\"\n",
        "\n",
        "OUT:\n",
        "\n",
        "['He', 'did', 'not', 'try', 'to', 'navigate', 'after', 'the', 'first', 'bold', 'flight', ',', 'for', 'the', 'reaction', 'had', 'taken', 'something', 'out', 'of', 'his', 'soul', '.']\n",
        "\n",
        "We will be using NLTK library to perform tokenizations.\n"
      ],
      "metadata": {
        "id": "ca8ZXrqrxPlF"
      }
    },
    {
      "cell_type": "code",
      "source": [
        "import nltk\n",
        "nltk.download('punkt_tab')\n",
        "from nltk import word_tokenize\n"
      ],
      "metadata": {
        "colab": {
          "base_uri": "https://localhost:8080/"
        },
        "id": "PlGV2fCvr_KR",
        "outputId": "c814e030-1b32-4a08-fea6-6e1ac233baa2"
      },
      "execution_count": null,
      "outputs": [
        {
          "output_type": "stream",
          "name": "stderr",
          "text": [
            "[nltk_data] Downloading package punkt_tab to /root/nltk_data...\n",
            "[nltk_data]   Unzipping tokenizers/punkt_tab.zip.\n"
          ]
        }
      ]
    },
    {
      "cell_type": "code",
      "source": [
        "# Test case:\n",
        "IN = \"He did not try to navigate after the first bold flight, for the reaction had taken something out of his soul.\"\n",
        "OUT = word_tokenize(IN)\n",
        "OUT"
      ],
      "metadata": {
        "colab": {
          "base_uri": "https://localhost:8080/"
        },
        "id": "vP7F5xlix9hx",
        "outputId": "66e4a5a5-ccf1-4079-bc6c-836a1ddedee9"
      },
      "execution_count": null,
      "outputs": [
        {
          "output_type": "execute_result",
          "data": {
            "text/plain": [
              "['He',\n",
              " 'did',\n",
              " 'not',\n",
              " 'try',\n",
              " 'to',\n",
              " 'navigate',\n",
              " 'after',\n",
              " 'the',\n",
              " 'first',\n",
              " 'bold',\n",
              " 'flight',\n",
              " ',',\n",
              " 'for',\n",
              " 'the',\n",
              " 'reaction',\n",
              " 'had',\n",
              " 'taken',\n",
              " 'something',\n",
              " 'out',\n",
              " 'of',\n",
              " 'his',\n",
              " 'soul',\n",
              " '.']"
            ]
          },
          "metadata": {},
          "execution_count": 37
        }
      ]
    },
    {
      "cell_type": "markdown",
      "source": [
        "### Remove Punctutations:\n"
      ],
      "metadata": {
        "id": "sAotQukXyW8d"
      }
    },
    {
      "cell_type": "code",
      "source": [
        "from nltk.tokenize import RegexpTokenizer\n",
        "\n",
        "from nltk.tokenize import RegexpTokenizer\n",
        "\n",
        "def remove_punct(text):\n",
        "  \"\"\"\n",
        "  This function removes the punctutations present in our text data.\n",
        "  Input Args:\n",
        "  text: text data.\n",
        "  Returns:\n",
        "  text: cleaned text.\n",
        "  \"\"\"\n",
        "  tokenizer = RegexpTokenizer(r\"\\w+\")\n",
        "  lst=tokenizer.tokenize(' '.join(text))\n",
        "  return lst\n"
      ],
      "metadata": {
        "id": "aM1WIeJIyMsR"
      },
      "execution_count": null,
      "outputs": []
    },
    {
      "cell_type": "code",
      "source": [
        "#Test\n",
        "text_punctutation = \"He did not try to navigate: after the!!!! first bold flight, for,,,,, the reaction!!!!had taken??????? something out of his soul.\"\n",
        "text_punc_token = word_tokenize(text_punctutation)\n",
        "print(text_punctutation)\n",
        "print(\"+++++++++++++++++_____________________+++++++++++++++++++++\")\n",
        "print(text_punc_token)\n",
        "print(\"_____________________+++++++++++++++++++++++++++__________________\")\n",
        "text_clean = remove_punct(text_punc_token)\n",
        "print(text_clean)"
      ],
      "metadata": {
        "colab": {
          "base_uri": "https://localhost:8080/"
        },
        "id": "4Lyj6BgeTNc3",
        "outputId": "1e914fa8-6aac-45ad-a027-36e408fe3327"
      },
      "execution_count": null,
      "outputs": [
        {
          "output_type": "stream",
          "name": "stdout",
          "text": [
            "He did not try to navigate: after the!!!! first bold flight, for,,,,, the reaction!!!!had taken??????? something out of his soul.\n",
            "+++++++++++++++++_____________________+++++++++++++++++++++\n",
            "['He', 'did', 'not', 'try', 'to', 'navigate', ':', 'after', 'the', '!', '!', '!', '!', 'first', 'bold', 'flight', ',', 'for', ',', ',', ',', ',', ',', 'the', 'reaction', '!', '!', '!', '!', 'had', 'taken', '?', '?', '?', '?', '?', '?', '?', 'something', 'out', 'of', 'his', 'soul', '.']\n",
            "_____________________+++++++++++++++++++++++++++__________________\n",
            "['He', 'did', 'not', 'try', 'to', 'navigate', 'after', 'the', 'first', 'bold', 'flight', 'for', 'the', 'reaction', 'had', 'taken', 'something', 'out', 'of', 'his', 'soul']\n"
          ]
        }
      ]
    },
    {
      "cell_type": "markdown",
      "source": [
        "### Remove StopWord:\n",
        "\n",
        "A majority of the words in a given text are connecting parts of a sentence rather than showing subjects, objects or intent. Word like “the” or “and” cab be removed by comparing text to a list of stopword provided by the NLTK library.\n",
        "\n",
        "We can also define stopwords as required by our task and dataset requirement.\n",
        "\n"
      ],
      "metadata": {
        "id": "Ih5yb0w-V9S6"
      }
    },
    {
      "cell_type": "code",
      "source": [
        "nltk.download('stopwords')\n",
        "from nltk.corpus import stopwords\n",
        "from nltk.tokenize import word_tokenize\n",
        "stop_words = set(stopwords.words('english'))\n",
        "custom_stopwords = ['@', 'RT']\n",
        "stop_words.update(custom_stopwords)"
      ],
      "metadata": {
        "colab": {
          "base_uri": "https://localhost:8080/"
        },
        "id": "6Yv1WQRvTWPO",
        "outputId": "0c46e86b-cbec-4509-cb80-23e38ed70485"
      },
      "execution_count": null,
      "outputs": [
        {
          "output_type": "stream",
          "name": "stderr",
          "text": [
            "[nltk_data] Downloading package stopwords to /root/nltk_data...\n",
            "[nltk_data]   Unzipping corpora/stopwords.zip.\n"
          ]
        }
      ]
    },
    {
      "cell_type": "code",
      "source": [
        "\n",
        "def remove_stopwords(text_tokens):\n",
        "  \"\"\"\n",
        "  This function removes all the stopwords present in out text tokens.\n",
        "  Input Args:\n",
        "  text_tokens: tokenize input of our datasets.\n",
        "  Returns:\n",
        "  result_tokens: list of token without stopword.\n",
        "  \"\"\"\n",
        "\n",
        "  result_tokens = []\n",
        "  for token in text_tokens:\n",
        "    if token not in stop_words:\n",
        "       result_tokens.append(token)\n",
        "  return result_tokens"
      ],
      "metadata": {
        "id": "DR-TZXSlWGce"
      },
      "execution_count": null,
      "outputs": []
    },
    {
      "cell_type": "code",
      "source": [
        "test_inputs = ['He', 'did', 'not', 'try', 'to', 'navigate', 'after', 'the', 'first', 'bold', 'flight', ',', 'for', 'the', 'reaction', 'had', 'taken', 'something', 'out', 'of', 'his', 'soul', '.']\n",
        "print(test_inputs)\n",
        "tokens_without_stopwords = remove_stopwords(test_inputs)\n",
        "print(tokens_without_stopwords)"
      ],
      "metadata": {
        "colab": {
          "base_uri": "https://localhost:8080/"
        },
        "id": "ekW_I07dXk2X",
        "outputId": "18d83c8d-237c-4338-afba-85d8e53a7f1d"
      },
      "execution_count": null,
      "outputs": [
        {
          "output_type": "stream",
          "name": "stdout",
          "text": [
            "['He', 'did', 'not', 'try', 'to', 'navigate', 'after', 'the', 'first', 'bold', 'flight', ',', 'for', 'the', 'reaction', 'had', 'taken', 'something', 'out', 'of', 'his', 'soul', '.']\n",
            "['He', 'try', 'navigate', 'first', 'bold', 'flight', ',', 'reaction', 'taken', 'something', 'soul', '.']\n"
          ]
        }
      ]
    },
    {
      "cell_type": "markdown",
      "source": [
        "## Text Normalization:\n",
        "\n",
        "This is the idea of reducing number of words present in Corpus by the process of Lemmatization, Stemming, Capital to Lower [i.e. My -- my].\n"
      ],
      "metadata": {
        "id": "2PAOiPNqf1RA"
      }
    },
    {
      "cell_type": "markdown",
      "source": [
        "### Lemmatization:\n",
        "\n",
        "It is an common NLP techniques used to reduce number of tokens(words) in dataset, this is acheived by replacing the word with its root words.\n",
        "\n",
        "Example:\n"
      ],
      "metadata": {
        "id": "Lj89GFxTaZcN"
      }
    },
    {
      "cell_type": "markdown",
      "source": [
        "![lemmatization-1.PNG](data:image/png;base64,iVBORw0KGgoAAAANSUhEUgAAArAAAADmCAYAAAAtDLZ1AAAAAXNSR0IArs4c6QAAAARnQU1BAACxjwv8YQUAAAAJcEhZcwAAFiUAABYlAUlSJPAAAJ/lSURBVHhe7Z0FgF7F9fZT93/d3d3tKzXaUjx4i9MiLRSNIaVAgeDuTvHgHiIkQHDXAHGIuxBfP9/5nbnnvrNvdrMbCMu74TzJ2Xvv+B195szceXtIIBAIBAKBQCDQjRAENhAIBAKBQCDQrRAENhAIBAKBQCDQrRAENhAIBAKBQCDQrRAENhAIBAKBQCDQrRAENhAIBAKBQCDQrRAENhAIBAKBQCDQrRAENhAIBAKBQCDQrRAENhAIBAKBQCDQrRAENhAIBAKBQCDQrRAENhAIBAKBQCDQrRAENhAIBAKBQCDQrRAENhAIBAKBQCDQrRAENhAIBAKBQCDQrRAENhAIBAKBQCDQrRAENhAIBAKBQCDQrRAENhAIBAKBQCDQrbDaCGxLS4tJBfqs/94IvFHxBgKBQCAQCARef6w2AtvU1CTNzc12b2RW75uamyrPCP9WILqrF8RBOvI4yji5VtkFAoFAIBAIBLoXXjOBhaRCGh2QR8hsNUlsbGyUhsYGaW5JJBc4wcVsdZJKwqqvry/DJHyPw0l2IBAIBAKBQKB7YrVoYBubGtsloA0NDWaXS7MSXCOYGfFdXSB8yLKRaP0HYXXSyrW+oT5IbCAQCAQCgUA3xmohsKaFVeKof/R/0nY6IIss2ycNaLq354JEtqWtfa1wooxY/ITPcxHv6o4vEAgEAoFAINB1eM0ENieE3OfPkFMnqC76x662rK9uV6a9fS1AC+v7XZNwn0jz6xFfIBAIBAKBQKBrsNoIbDV55VpNYHN7J6++N5V/qwuE5wQ2TxfX10PjGwgEAoFAIBDoOrxmAutkEGJYTRRBbuZ7UwFmrn11WV3wsDwd1WkIBAKBQCAQCHRfvHYCW2hOc6IISeQjrbq6Opk4caKMHDlSZsyYIcuXL0+a0YKw+gderwcIlzQQ3+zZs+WFF16QF198URYuXFi4CATeCFDf26vzbvf6tIlAd0LUhUAgEFgZ2iSwkL4lS5bI/PnzO5QFrywwIuoEFkAely1bJk899ZT07dtXvvOd78ixxx4rU6dONXcQ2xyrlcRqWGwdcCxbtlzOOuss+eEPfyi//vWvZfDgwYXNmot86KuWEm1ZIoHVhhWzl39NKjqJE53sqVn6A7hhdYIVAoQ6rNJG20hhIYThsqK7wBsNyqQox6ycvPxaoTBI9rjL6wJ1puKvTf8O6ovt9afuJKNAIBBYE1ESWN+LCp588kn5+9//Lh/+8IflYx/7mF0/+tGPykc+8hG754r5Jz/5SVlnnXXk7rvvlkWLFpX+Ia/333+/fOELX5D3vve98o53vEOOPvpo08JyYkH5AweFxtbhS/4O7NzePvqiY8YsI8r4MfMCmOXbBCDX11xzjay99tolgc3jxK2Tb9yWJFyvFo+7Jd7ivvoKuM8JfCu/XQhiJBX58JeGwCSWIv6QNstPlWa9xxNidhWpegypkraQ7LQu69Xzv0FNtKbpP61jKk32pO7UcaI1DfqwTB+WqunyJM31yUEREbdNWkapLKE4/COcRouNUN5o2IkkWdux9lm0CwfP3nZoe74qY20R//rP2yVhWHiFe4e3WYfbe7zWBjM/fo8/7tvqT0C1v04DL62EP4SbagCl32xlleoFNrgwmHtMNE3mgpUpneQ3LVFJ9QEbrSGiNcKuVndUUkiefjVp0fia1QV9rIUZCAQCayaMwHqn7oPC4sWLZezYsTLinnuMyP7f//2ffP7zn5fjjjtOnnjiCXn88cflrrvukhNPPFG+/OUvyze/+U3Zfffd5aGHHjL/7G2F0EKEN9hgA/n4xz8uhx56qG0n0OGhjCsfOCCPTiCxc9iAomblwOLPLpg5Cjdu5oPU/HnzZOyYMTJ69Gh55ZVXzA74+3K19GRh+TP2iNkRdhGvw9wU/qtRDsJdCN5AU27i5MmlMugp7H30PRAIrN0XViGrJJWbhPSo9USv5Hkl/7VttNRLQ9MyvW/UdlJkPXZKVptK8gpFgdDSRjSkRq13TdRrdW/hIJSxk1cIUlG6BIZ0IfI2a22DhBZwO8zztkTb8Hvsafvcl+60PtJWmRwfeOCB8re//U2effZZcwfcrblXtx4O1xxu7vDwq90B3Lmdi5HcziDPd7vnD/Gm0qc1pvKColI7Ks6Te240bWaPKyYvOqFpWa5WTHgo5ep2TF7rE+KhWTt2s06mPRAIBLohenjnD7jSiXtHvnTpUrn22muNvH7961+XK6+6yvaVYsc2gEmTJskZZ5whn/3sZ00bu9deeyvBfdI6fQYotiHsvPPO8ulPf1oOP/xwmTJlShkP9nTyTXrlPh/QPD2Gwq0PQp5GzE0U+cDDFXg4FpYKbizOws6vpBU/2COYeVoYLC3sqjxqRkuEv8KcQdH9Ax+MPU1dC02PDngtOgByZThMw2IazlqlhrSZYIO7JE6JEPcT0r6Ud5aX/pjuPYubqCNWH6g31A/NXc3c5gatSw2a49RxrVcN6qa+CaJLOVJ/1X9RCFan8K8P6S9UqKBDOEzF2EZBv74gXdR9I5ekQ1FXx/7zJrn33nulT58+stWWW8pWf9lKttTrX/7yF7v6/V577WV9C/0Jk0HCI6wrrrhC/vznP8sXv/hF+e53vysPP/yw9T/A2mXhljzhmXtPi2lyi2dv3wbs1c7bppVHYe9+3Z9LZ4CrikvuisIwIploJ+WkIa5QTHkMyQ43eudEtEyL3apgR5iaF830o/iohJvaLSZ5yIFAILBmoYd30DmBtAFAhcGCQQMt69e+9jW58sorSwLLoIGfyZMny2abbSYf/OAHbZ/pBRdcaH6x44OpXXbZxcjtEUccIdOmTTO/eVw+eCBuZuYavqfN3bi9+S/sza2amx0ddzEgQSqB+yvd4F7N8rA9LLcnfL8iPhgCrua2Kr1OYgFXf8ZN14L42GOMJo8rGisGOE17JhXwhB9oq5aD/uUOCuwENtARyCVE8zLPZDdWQYParISuhT0A1Dcje/qfuqYktrlR812rT72a1amTBr2aV9wQll1THbWHXPwWK6qgO+kikC7qurdr0KCknOfnn39eLr30UtOi/vSnP7XtRDvuuKMceeSRtqKz33772SrNr9Zay1ZxRo0aZZNjwmMb0h577CFf+tKXbAL92GOP2YegZRsv2h5uEfom17CW/UfmBnBvfl14VreW9iJct8dvZ+BZn7I9K4iSgCKkxRzkLkp/yW9xj5vyoRCezUz/kDa2CbS0JrAFpS1bPd4CgUBgTcUKBBZwpcNnIGFbAHtZGUCuvvpqc+eDBPcMGmwPQEvC/lgGKvbAEi4a2J122sm2EKCBhewSroWh9gjPNogUYbq5DSbZQOVpcvEBCnFwb3a41TjUoHz2MIA/Y1/eA72auyJs4P4dubnfY2/hqPBugPtqv10D0uRDGVcfJpONSwWFSfHOzaWor9YOA+1C807zWXNN78lLxIxbSYuSVCOsTIhs/wDm1BvqqZIOfYZ4oDtPoVXqFeVTSjWIqxTiRrDoGli9IZ3F1es8bcHbybhx4+TvO+8s73nPe+SGG26wD0CxZ1vReeedJz//+c/l/e9/v010p0yZWoYzZMgQ+eMf/2gT6EcffXQFAsvV4zACq9cyHbQ/MlZheago/RaCX0+n23nYnQUuiSW1NJ6IqygrEzUrjLD2R/eT+/X0myP97+5zSTceNqJ+ijCcwHIljkAgEFhT0cM7f4d3oAiDxX333WdbCL797W8bgW3IBgn8gv79+5uWFu3KP//5z3KfKQQYbUs1gcUv+2Sx52gr4hg6dKgNVux5e/rppy0MNJ9sY3jyiSfMftCgQTJw4EC588475cEHHzQ7wmLgYn8r/u+44w4LY+7cuTYwYcfpBwx+7N1FK4wf/SMLdBDleC2WOZ8fOdIIN9scHnjgAYuPdL388suWDw4GN8B74BaCT5y4R0OEWa7h5er3XQKiKt4vSTIGpBypGHFXuHHLymhacRzSvtilIJtlphUZR/63MsKlTsBaGm2LwIw5i2ThUp0oan6jeYV0+MYPthkwAWlpQauolMQ+6GJSpgEVcReXLIoUPqlJNl0D6ndO+mgbCNsAaIOYT5gwQf7xj38Ygb3pppuMwDpZpF846aST7YNP9tPTHpcuTZNg2iJbDSCwtDXas8fhbbEa2BGvi6ctT5/HTRpt64MCe7dz9+5nZcBFajbkf6U0rKxsJlg44IpjFS5uXPHLHWWcJp4ruqkE4SiCK93iM9Wc1u4CgUBgTUMPH2Bc6Ly9469XgskWAjSwDCCXXXaZkTlzq+4AnT9Lf2wTQAPbr18/+wiMcPiQa7fddrMTC1gynD59unaqGod27JDFRx551PbH/fa3v7WjtoiDAYwlRQY5/M+cOVP+9a9/yac+9SkjyO9617vkM5/5jG1bmDQJQtws8+bNs+VIlho/9KEPmTbnueeeMxLMhx/Y/f73vzc/kGPI8ywN95ZbbjGCjfaYj0SeeeYZufzyy2WTTTaxdLDv7uCDD7YwbMDTdLuWB6J6wgknWLik+/vf/75suOGGcsEFF8hIjRtCzaDNQM2g2GXwkaxqxFvRqHBYDrIq7qCxuMdhchyyEvHbBO7IPGiEXos8pLmg2WZ7Bp/lLKhvlItvfVyGPzVbxsxaJjP1mROKl6nUtzRJfdMyde/6NE4kWKqiVysvNSJeFW6tyEygQI0miUh1DajfTiy9H+HZ6z11bfz48badCJLKqSALFiwwO0BfwCQQDew73/lOa4OzZs0y/0xU2SfLChATUG9/gH4G8ktbc8GfaWk1w2l7Y8aMsXOouTIZ9e0J2PHMx6pMcAmTvowr9gjtvTNIJZ6mDq0JbFZACPc4LqRyyz9KsChrk3p1nkxTuVYkTVT4Vwnaw/LoPKpAIBBYU1Eeo9WonTedtg8OgIHAj8OCpNkWAiV/3sFDcseMGSu//OUvbeDZaKONTBOZk2C2EEBuTQM7aZL5Rxg8vvGNb8j3vvc9C5cB5aWXXrLtCG9/+9vNDycdoDHlhwj+/e9/21FefDB24IEHWfo8rVzRuJ511tmy/vrrG+HEjIFp0003LQfG9dZbzzS+aG4JD9LJgEp8kGjOi0V7637XXXddsz/ggANKza1/AII26XOf+1yx5Ikm9mHZSgfaHj16yFve8hYj25Bg9v+RV10GH8UY+YqRjGziNg2GFUFj6EOkES7fr8e+usS4UniBlYM8KvI65RkPBRHRzCf/ISF1KkvUdL7KlKX1sn3fq+Svva6Tw866VwaNnC4TmrQeq398UiJ1StaaIa0WDkdscaVc1IhoVLgtSs8oT4P+62oCa+A9s3ZPW4EA0l6o/xBFVmc+8IEPyHXXXWftHTcIRPT22wfa8XxvfetbrT9g8on/+x+43wgs/c8jjzxiBNa1pjfrBPQPf/iDtW00u7TVvffe28gqRPXMM8+UT3ziE9YeaePswaVvID20S/bsc8IKE1b6upwcryoSrbQKUAgFlC7VxhXRP0aSKb2inG2islStdQKgfynJ1EaxZ5KAWwQzzV/9ixCcw4MPBAKBNRk9GGCA7QkrBhTXPDAIsIzuH1FceOGF5S9ZoR1lOf/HP/6xDR5oMU877bRSs0I4EEWO4UJ7+t///tcILF/QQkjPPvtsefe7361E8J/ywvPP26DCoARpXWuttWyg4ytkwoMwslcOcgtp3GKLLcp9tjbgqDAwnXHGmUZil9fR2WvHrmHOmj1LjjnmGCOTnFnLRyUs8TNAonFFawrB3XXXXU1DvHSZDh4aH4NZr169jLzvueeeSq5ftvB4JwZgtkxstdVWttyJOem8/vrrTQv9gx/8QAYPHmLE1rTRRX52GYoRDC6FMpVhjwOaFrUhECq0fpqbdkUH5EIuJruQzgp5lvIvEVY3J59pGXNUZqmMXdYg2x08SDbuPVQ2O2C4bH3wUDnorIfltodmyURluPhZqvU6UVEmlg1aL7Uk7aMdtSyEC7UrERk0dF2vgc37jGp4G2U1AgIL2aSdWD9R2E2aPEmOP/54edvb3ibve9/7ZNiw4aaVpd0zgd58883lK1/5iq2esCpE+zz//PPlV7/6lZFbtgdBWo866ijrqzhzmgky7fn000+3FRsmxGxBoN8gXOKnD6Ivwb+n08H9qrVb3OZSFE4mXFqZ2aqHlilnvXLma+Mryk1na4Odma6NmkcNiNaYBszmqplWDhN1a5ObVPYpbP1Lmk24xzAQCATWTLQisHR6dNolgV2+3Dp9yCmEEm0HgwnaSgYPltgZWHbYYQfTmkyePMUGBx8IIMC5BhZChx3aF0ggy/0MNpBT/EEEWSbcZpttLL6LL77YyC529Q31cu1118qPfvQj09xCdH0PLHLrrbfaXtyHH3nYtD4OSPE555xjpPJPf/qTLSc60LLyPsTF184LlNR6eISx//772/7f7bbbzn5VDHMIPGQcbTDbH/hqGvO6+rTdggEUrc71199gJNnD6yoQE/oZSBSkdcKchXLdsGfksNNvVoI0WA486x454Mz7ZP8zH5K+Zz0i/TLZ/yw1P+teOaAQ7kNWXci7g4rrgWfeX8oBZz6g+f6A9FPZ9/SHZZN+w2W93iNkXZX1ew+XLQ8cLv84aoQcdvb9cv3wMfLSnEZZpFW5PAmULQUccI/2zUiK3qqUnMWacFHfurLOWZypzwD0H7RlzGm7iBNYJrtGYLUPII38uAlklAkmE1o+Ak175VM/whYC9sAyYYRompZUwzv1lFPsh0l69+6t7WyhaVDZG88Ed9ddd0tbhRob5Rm9ssWJU1L4eMz21mvamMhCYDkGcMlSphdV6dZ77wc7haIsWklxIZRS9E8zxJU+ysgrxHWBtMwYKVPvHSAzBp8tr9x5lsnCu86X5Y9do3K1NL5whzRPfEhk3gtaISYVJHeehkMeEw8xactvUVLbpNMf9k2vSvoDgUCgm6GHDXYKOm4nn6kzTASUjyjQQqJF5WdhIaosvyHsiWWvKj9uwD5U909YgA++OAeWj7jYA8sxWgw+dXXLjbQOGDDABhL/eAoSyhLgV7/6VdOKXnTRRbY1AD8Ie0uxh/iynw4NC3FCiBkEIcMQXtLgS5mkBQLLVgU0sHy05fYQbjQ4aE0hsPPmsbibQLhsM4C8o2l96OGHzB8DIMSWd+LKvjvyywdFtlMwEKM9Jl1dDYYsNK5o8NCVPzttnpxx9X2yfa+L5K99rpFN+t4uG+13h6zf604lT3dncpes13eQitr1u13W3/822VCvG6tZSHtCXt1meZXLBmrWs89As+/ZZ1ApG/capHmv1z6DZcPew4y8rtP7Ps3zB2S9Pvcpib1b7YbKVup/z8NvkeMvHCF3PDRGJs5fkkisEp66OshWRmIpcIQm58JzasJdB20bDtoJ7SfvU9geRBtjaw37zVnVoA3Ttn73u99Zu4G8ssXH96kyiYTA/vWvf7WJMqtB2LGCwkSUjzqfePIJm3g+ULhj8si+dsgucS9UO/oo+i+ILOQY85tvvtlWZgiT9Ll4erkinQKvXi3FhRBY7Eds4V8N2Qttx2AV5BUiumzsg/LiFYfLi6ftLBNP214mnbadvHzGTjL5vH/K9HN3lWkX7y0vX3mIjL/hGJk+5CxZ+sT10jzlUQ0DjTRp14Lnwz+0svYLXtoD2FaWQCAQWDPRo7rDziUnsOxB83NgcZ8PTkYwuWbhcM/yOVsInMCi8fQv9PEPiXz22efkvPPON60mBJSPwNibylIiGtg5c+aU4aH9RHuDtgaNDHvi0LxAHCGwfBxC+oANgCpoYNnbCoHlUHTcevx8BLbVVn8x7Qx7WiHLwDUxBx10kL07gyzaVdIB2eZDLZYl0cza8qP+w46w2VIB+eYDsYWLFppdV4L4mnTg4kt2dtKNnjZHLrjmbtmp74Wyba9LZbN9r5NN971FevZSctpbSVYhG/W5VTbqe6NsqLJRv+tVrpOefW+QTfvcJJv2DmlTNG969r1eiWpr2URlq97IDbJZ5n6TfW+UTfa5STZXctuz9xAlsPfIuvvdJRtAYBF93ljNN+tzm/ztwBvk6PMfkGFPvixTFy2T5Vpn6xvZ/4le3TcqZCQWrgJLeqMIrIJ2hTi8LwBOYNmLytYcyCN9Au2ejyxpu6xm0O6sfSp5xS97YNHA+kdcbA/ycOkbhg8fbtsPjjn2WGuPtOUddlAC+8ij5obwaJfsf6dfYY87/pjUEi8aYO8PcmDmae8QvDJSle9eLBBXpCgxNVcb+6nYxWrAtoF5svDF++WFK4+Up07cSV44ahMZ038DGdV/I5OXjlxXZR158aiN5Zmjt5DRJ20jMy7eUxbddbbI3PEaBtup0jm26QcytA+EIL8RlSAQCAS6COUpBA7v9BHIYX4KARpTc5+5wa/7z/3ijn2yaEPKj7gK7QcfcTGIsI1g3317ybbbbmva3dtuu03uueceG4hY1kcD61sIAPGgedl22+1sKfLkk082UnzVVVcZqWQAdLekgXtIOB9zsIWAQYzTCQgHe86b3GKLLY1wQmDZF4cdH880qj0aIbYQ+D477CDIxAMZ5rQD0jhv/jzziwYZTQ8fi1R/Md11YBBLv/TEgDZ7/kK595GRcu7Vd8lZVw6Xky+7V0696hE5dcCjcsqAhwt5SE4e8EApJxXiz6dc9WBIB3KqymmFnH7VA3L2VfeZnKr37uakK+6XEy5/UE4c8IT0v+Ip2Wz/YbLBvnfKhn3uURJ7t2zSb6j8/fDhcsi5j8mFt42UR8YsktnLm9PeWq3LDUpK2FnbisBCkahjVPtcurjaUc9pb77sbvcqmCNsIXANrO+BLf0U7rwvMiLGP71nDyz7VFmVYZ877RlzVnA4rQBN7j//ubtOdv8nN954o00sIbAcaacOzS0nmbAXll8E5Lguth+ddNJJNkH2/goBuEeq71cKnLSR7zw6gWVajaTdyUw8ILDsfVUSiwZ20hMyfcSV8tKNJ8jEAYfKtMv7ydRL9pNp/9tXpp+3q8w4bWuZdNLmMu7YnjK2/3ry8jHry9QL/yX1zw2SluVzNDx9B407aXhbJSMQCATWSNhPyQIfRABXntljmhNY08DWJVKWd+z+jDAQsF8VzScEjuXCnMDiBsLHIAY5ZOnQtJXFx2F8WMWeWrYJ8NGYbyFQj2bPYHTmWWcbwWXp8Y47Bsl++/WyAYoPNABpJ34GRAQNLAQ2P6GAgZAtCJBTlh05qgvCnd47fejBFoJcA4s/wgMMmGhbt956axtI2VrBQIoZhBmCrjlifroWGh9amCb2Cuqgplm3XJO8TEdS21ag1ny8pcOmCQvSrQR7lcUqPLu7kJULelHyt1rcnpOR2VDCR1zTVcYta5Ad/3O79Ow1UDbvN1h2+u8w2f+M++TCW16QJycsk3nqhnIiDKhqvbbThmYO4YIGYVL5rTSrZ2pCVbPqhnQhqOO0FySlRFOn7c/NEAgsS/h8xMXENd9yVEqWcA+TFSDaKHvLWXFhXz7ChJX2zx57tLu0Z//RFfqPxx57vAyXfoitQ/QBO+64kxx5ZH859dRTyxNHnDgD+i+/B/n9SoEzlwLcQmDpMSCxabqh+WEEVk2yPbDKYKVl1khpmfKkSfPER6Rp9J3SNGqI1D1+jSwcfrbMu+0Ymfq/fWTiCZvJy0f8UcadtI28MuISaV48VTu9BiOw/BgG1ywZgUAgsEaiPEaLTt47b65OQHMCy75OfuOcgcWJHMA9z+7fwlDyBAF2DSzLhexzxQ1Lemgw0cZce+216YtkBeHysRQa2Pe97/1y2WXpPMh8oOOeI3l+8pOf2GDIYMXAyD43DyNPGzj33HPLPbDEDSDFLB9CTiGwtoUA0qnmgPfnAxE+CmFvHYOnb5Ug/KeeetqWQiHgLG8ywPJhGyczJM1rRbPUpWDwamyRhnod0Pi1J33mjcgRqM8yvalTM54RBjteuRT14gL5RaNjg28b11drx8+ktmtXXF+tXVeH3aZgp4IbCAX57ZOBJVogTNUmL6uXPf5zlezY9yrpdewQueT2cfLclDqzc/1qvfrNCYnVf9vXCHHltAFtZ20IpLar4e3TP6D055RmbbPjxtpJHyzxoyn1DxzZUmTthLQXfgH9BOZ+DizbhiCzEFVWXZgY/+xnP7PJIuGwWuTbnbbffnvTwNJOU1tM25k4k5oJJsdmXXTxxdYfAez9mk+W7bm4XzXghzLgvZq1TPR9XCxMvXMpTyEopHGhtt9FarVYOe58aeFjLWTpBK08Y6X+hYEy+8q+Mrb/ukpgt5ZFIy6TFiOwSTNtybXo9c+rSXogEAh0E5SnEDgYNBg8AIMFHzmgKWUAYQsBxM5R3bljl9tz76cQsNdt0qRJtjw/YsS9NtDwsRNh8rETcSIs8TM4sQeWD8X8QyjsGJAYDOfPXyCnnHq6nQRAGHvttVe5NSAHg1Gzvh9fG3NiQk5gAR9x8eMGaHMhwflHV8TFFgI+4mIANQ2shoc5y5ecxABpti+g65abkF8MlGyRYEB+Q0C0aexMos9ki5FVFQiWDaKtHBS3OMilsA5ZRbE/hXZUb8lK9KWc7Fmvd3VqN3d5vRx2/DVy7Z0TZfycelmghAOtN3td65rTUVgGNWtRBotYsFbHnRi1Jq4uqWy7DnmfkfcnkEfvD9CSstzPWa2sWKCBbQv4z9uObyHwPbBMimnDnDm99tpry43aBombveloYJloJw3sY+aftNEu8UdYnGDCdgS2/pC+HNXk1Yh18bwyWLGokHL0q6nh5JKwQlAYsALmRJZy12cmMKbRV/u6Jq05aGmVzEJk68bcIzMGHCKj+28gL520eUFgX9Lqxoksqb7ZH8qhOr5AIBBYg9CDwYIBgI6aK0LHDVGbv2C+HHbYYUYU0VJyDisk1N0C6+RVeDaCqfcIA8b48RPkN7/5jQ1anEbAaQX45cxGBhk0qHyg8eSTT5pfBigGOQ4fZ48rv4LFV8loPxkA8Ysw8LDVAK0nAxKnIfjxOLkbrmhw+/brZ2GitUXj63hM41v7D3+w8ychqWh2Af7YH7vZZpubxojfYmebg1pYPBzXxX66z372c0bsv/Wtb9nV79HysMeONJMXXQ3GRIqHqFHE1OufOh3QEomF5PAPggW5YBB3nSHEiL+4S1cbD0PalRKlIX/IOZeERCtTvterLFdCOnPeIpmzsFEW1bXIMnXKubGJ5Cbya/6cvOqj3TMDIQqzT5QpuTXDdCluuwq0F6/n3vaYxGHmfcq4ceNkR53M0ubPPvuc8uMp3ND2uXd4O4b8MollFYRJNBNG+hXOeGWVhv3m++67r51CAKnlg1HaK7+Ox2oR7TmPh+Oy0AKz2sJee4+Tq8fp4D5/XhlwldpVEv6m9gSJpOD0lkshwIz0Dy5TW6PfbNF8U58qNl8x0T9+YoGS2OVj7lUCe5BMOPKPMv34jWTpXedKy6IJas8vt1HDUs0g/EAgEFiTYVsI6CTp/BDuORoKksa5qRxfw1I/JI97BgeW1iGQZaevwtWF5TzOYVx//Q3siCp+XYePKzgHkiVBtCX8AADL72g4WXpnH+uAAVfb3lg0sAx07HFj3y2E134QIBsk2a/KvlWWBVk6bJUWdYdb9qFy1BXaG8JD00r6GRT5Ba0/6vt5+iCkLC3yRTO/CtSzZ087PYH3hsDzwRYaWT4qQ5PDr3QRHr+8lQu/+uN5xQ87+DJll4IxT7PKRB/T0nZlgHUCm/ZTpgXrtJ+SHXrYpSEYahT/Vv7PMruVkOOZYKR/LOftwzrOh2iURuqo2kBUKJ96fW5oSfmPvWnlQB5cK3aSW6gBZkhm1JVIeZFA2zPR/oQPpmintGWIKG3t29/+jqy73rr2EZUTTIQ2DLjnSDtWTvggkp+PZhLMBJTTRphEMxFlG9KXv5zOoWZfLX0Kbvi1Pj4KpQ+iL/KwufLzz2hf+WnbHN63eNpxC/y6MuDC21ZqM7xHUVgwVhxk5UKQlDtbUqC5TCPtXgVSa0WfSUujeiz2yy4b+4AR2JeO/IPMOH5DWTr87ERgm5erUyX9Ho56DQQCgTUZ5R7YvKNGazlkyBA7aob9o1wZTLgi7GHjTFfv9HPQfTc0Npg9A4X7RTh7kY85iAsSy35Rd8Mh43xoAUFk+Y942V7AR1eQV/zkgwrLgvyQAO7QyDjMTeEOf8TBoOfpgLyi0eUMSeL29yIc7IYNGyYjRz5vg6unG/vzzjvPtLBogFj+ZP8rJPjMM84o3eXCGZeHHHKIaZ3fCHg2kBM+dlaEfwx3rnkttEUqiUAxECe/6W/IqxfAlVyFRKV89rrs4GxQOx/U3OKmtb09tjJyg8ywDaM3ErzjmLFjjGx6G/P2QZtkWw4TUUfen/iSPx9reR/ElW0CtGs+5uSHCwiHSa6fH8tJIHz8yQda9CU0Ap/QYn/44UdY35bHm4M0V5dNR8C1ty36v/yJ+M0oF4VpX1VwZTWiuDdr/riFXk0D36Q0t3GxLFcCO1MJ7Pj+f5TJJ24iS+65SFoWT1J3TEJTuzUSrNdAIBBYk1ES2Dcc2tHn2g8bRPxaBdygXWUZEcLpBNcGwDbcvxZUp4VlSAZkNDlohl2zY5Klf8SIEUaCIbCWrjcQ5EhrSf/askH8LrA60TqPV47XkPudCf5NBG+XbEfgw8v//Oc/diSea3tXF1pne/bktxXLErnVCk403Ul7y1WFnxBuXCh1Y+9XAvtvGdf/T7YHduGIS4tTCBKBrYTRKrRAIBBY41A7BFYB0cuXEZH83oUjt9CGcq4kmhfM8Le6ByVAmpyUosHhDFi2PEBO0QKBlC51o+58HzDLl2xtYLnz9UhXIBBoH7RJ9qvTDtmWxGoOKzbnn3+BrdiwvaEWQY+XRP+atp6+h4veNy5agcAuuMeP0SoIrHk2DyqBQCCw5qKmCKyDwSdpLemIRRYvWWIfgaDNRFj+5/QAth2wnO/unWiuLiRimgQSyikFxM0JCSeeeKKMHTPG9tgRL19Pc+WMSs6uZR8tGlpIbyAQ6FrQFpncsheWX//ix0p+9KMfWf/hv+ZVizD+aaJ/g8AGAoFAu6g5Autk0e4LQvr0M8/INttuawMRH0hxLBfny3IMFm7RenLN/a5OOImFjHJiAicf8LUzy5EMiGhi2dLAnju+fL7iiitN8+MfntXqYBkIrMlgHz4/WMAHlfwKH3vf+bET/1i1FmH800T/BoENBAKBdlHbBLYYZPj5WI7g4WgtBqOjjz7aPjRzd1ydwEJ6Vxd8OwBhcw84Imj06DFyzDHH2hfSH/vYx+QjH/mIHenF2ZR8aELa/Bgvl0Ag0HWgzfEjCayQ8EMpbDuiDXubrlUY/zTRv0FgA4FAoF3U7BYCJ6cArQk/HoBWk/Mep8+YbicdQBIZjF4vgujhcnVhAOTndNG6skTJL4ehleVYMbYMQF796J7QvgYCbyCKNuvwNgx80ltrIHVJ9G8Q2EAgEGgXNfcRlxM+BhrXqubwQQhx8oo7v1+dH2f4UqPHZWZ6tXTxrOatzLK0uLnfBwKBroW32/zXAb2d1mrbNP5pon+DwAYCgUC7qBkC22pQsQ44EUDMHdy7O1A9GKUOvOL+tYKw+DjLSalfLa4iLa3iL+4duZtAINC18PaYbxvI26r+MbNaAilKQvqCwAYCgUB7qCkCWxI9v7YBH5SAE9jXE/mA5wTWYWlmoClgz69zegKBQOeQt8e83Xp7rkWQqiT6NwhsIBAItIua3AMbCAQCb0Yk8hoENhAIBDpCENhAIBCoESTyGgQ2EAgEOkIQ2EAgEKgRJPIaBDYQCAQ6QhDYQCAQqBEk8hoENhAIBDpCENhAIBCoESTyGgQ2EAgEOkIQ2EAgEKgRJPIaBDYQCAQ6QhDYQCAQqBEk8hoENhAIBDpCENhAIBCoESTyGgQ2EAgEOkIQ2EAgEKgRJPIaBDYQCAQ6QhDYQCAQqBEk8hoENhAIBDpCENhAIBCoESTyGgQ2EAgEOkIQ2EAgEKgRJPIaBDYQCAQ6QhDYQCAQqBEk8hoENhAIBDpCENhAIBCoESTyGgQ2EAgEOkIQ2EAgEKgRJPIaBDYQCAQ6QhDYQCAQqBEk8hoENhAIBDpCENhAIBCoESTyGgQ2EAgEOkIQ2EAgEKgRJPIaBDYQCAQ6QhDYQCAQqBEk8hoENhAIBDpCENhAIBCoESTyGgQ2EAgEOkIQ2EAgEKgRJPIaBDYQCAQ6QhDYQCAQqBEk8hoENhAIBDpCENhAIBCoESTyGgQ2EAgEOkIQ2EAgEKgRJPIaBDYQCAQ6QhDYQCAQqBEk8hoENhAIBDpCENhAIBCoESTyGgQ2EAgEOkIQ2EAgEKgRJPIaBDYQCAQ6QhDYQCAQqBEk8hoENhAIBDpCENhAIBCoESTyGgQ2EAgEOkIQ2EAgEKgRJPIaBDYQCAQ6QhDYQCAQqBEk8hoENhAIBDpCENhAIBCoESTyGgQ2EAgEOkIQ2EAgEKgRJPIaBDYQCAQ6QhDYQCAQqBEk8hoENhAIBDpCENhAIBCoESTyGgQ2EAgEOkIQ2EAgEKgRJPIaBDYQCAQ6Qklgm5vpKOn4WqPajGeXpiY62PbR3FLpRN1PjurnQCDQvUGbz9t6R+2efgcp74s+Izev9g+wy83L+zbcArd3fy6GKj+l+RsAYk6if7sTgSVOFfLOxwXurT7wLlXIx4a8rAOBVUF1O65uu20951KraJW2NtK6Kmmvflfa56r4XxXkceXtGrOO+OKrQQ+PgCuReKQpIXpf9bK5G0+Qu/f7xsbGdI//wp37yd16WHn4gUCge8HbMWhWosWzt2nMvcN08X7Bn7Gv9BF6VfsmvS5dulTGjh0rt956q1x55ZUybdq0Vn1OHoaFWzznqDZ3f0as3G1m11K4NTFC2Dq81xvElkT/dmMC63nuz2U+FlevA3avV/cTCHQWeR1r1W6LOga4x52397akFpGnq620rkq6cWt5ULQvb4+5rC54XB6ux8m988LViR7VnY29KC/IVaXsfJACPOedUp4hDQ0NUl9fb36XLVsmzz33nAwePFhefPFFWbJkSeqossEjDycQCHQ/0H5px9V9An3AxIkTZejQoXLD9dfL9TdcL9ddf53ceOONct1118n1asb9oEGD5JlnnpFXXnkl9T9Fv/Poo4/KIYccIr/5zW/kJz/5iTz00EPWtwB3Z5Psggx5/KUYoasQKsCzkWSec7furioMwu5KkHtJ9G83IrCV8qjUBUeZ/2qX5y3mXN0NAxzvEAh0BK8/3q7z+ge8jgHaNBNif3bkbmoRpC1/L09r/p4dwf0hJYEs/OZ2qxN5ej394PWIy7YQeOfhEUE0X3rpJXnyyScr8sQTrZ9VHn/8cRk9erQsWLBAmtQ/YSCEN2/ePBk2bJjstttu8rWvfU2OOuoomTJlioXPS1Ch/D4QCHRv0OYhl96ely+vs8nsHXfcIVtvvbV897vflY997GPy1re+Vb761a/KD3/4Q/nxj38s3/72t+26q/YTN9xwQ+pLirDOPfdcs/u///s/60MeeeQRqatLRM0HL+Lj6v0XE2/sEE8L17LzVuDOJ+nmXvsi7HGXh+v+uxLEmET/diMCS1kj5KOVUZF3KU2Z6D/y28qoJBVFGTZVxqBAoCNQd6hzqQ4V7bpouyC/0s71Jt0X5rUMT6PzKU83kr9zDrfP4X0hcDvr99rwv7rg6aAsvF/w+Ex5qf9WF3p4wAwY3nk/oWR11112kQ996EPy7ne/2wYd5H3ve598+MMflo985CPykY9+1K6/+MUv5Oqrr5apU6daQvG/ePFiuf/++22gwv/b3/52OeKII2wJ0F8sH1ACgUD3Be3ZO1kngsD7E8BWgB123FHe8573yLXXXmtElf7i6aefll69elvf8oEPfEBuueUWWbhwYRkW2wd+9atfyde//nXrl1jVybUphO8dJFsOPD6AmQ1c3BdX7M28EMCVMDxc3OThdCVIURL9280+4qK8yUcHeZ5vKfH8zoEZ+W6a7nbcBALVoJ7QP3h/4+LgPp9QA+6po3kfVatwLgXKdNPP0X8V4sA+l7aAufd9/gxej76O/EVBoJEUJgntpe21oNTA5oGTAAYRBp0DDjhAPvnJT8qXv/xlueCCC2TWrFkye/ZsmTBhglx+xRVmDpHdcMMNbakQEBaVZ+bMmbL99tvLJz7xCTnyyCNNA5sXihXE6/BSgUCga2HtuWjL3p/QBzi5pL/45z//Ke9973uNpLJCgzvcjBw5Uvr129/s2C7wzDPPWh8E7rvvPtlss81MA/vAAw+Ydg9gj/8cefzYEzedPqhOn3fcxO9hAut8sw7d/XQViC2J/u1OWwiUgJKviOe1TQh4D0We/3af5bHVExW3DwRWBV5vaLfWtottP5jTnq2u5XUvq2d5Paw10C+xsu1pr4a/S7W0hWSu9vq+K3P3WuH9PfB4TCgb+rDVDCOwHqF1+EUHzhWNxk033yyf/exn5Stf+YpcfvkVmqmpo8F+7ty5pn390pe+ZCR2xx13lHvuuaccHBYtWiR///vfbenwv//9r0yaNKns4PDvIF7MA4FA9wNtlzbsoH1DSmzwKPqW8ePHyy677GIaWPa/zp8/38wB2ljM0MKy6nPttdfJnDlzLdwHH3xQttpqKyOwjz32mIULCNfDBvmzDWJFR12dNuD2IPfnfR/25qaL978CUpJE/3YjAut55nkJLG81P1FkXHLJJbaVBG06+5mRTTbZRC677DLbrvbCCy/KvffeK+PGjSt8BwLtw9u29zF5f4PkJLa8FveA57x/qkWQNsT5lJnp1fgSk8PC3mWlcDcqeTslD5DVBQ+3uj/g+npMFnpQ0B6Jd96eYeyFffChh4ygMoBceeVVlnm456W5nzN3jvz1r3+Vj370o7af7fTTTy8rE/533nln08CyhYBtBvYiKsTjYRGXpyEQCHQvlG246D9crB/R/oUrxIT98O9///ttCwEE1ts8/cTAgXcYeX3b294mV111lWlo8YfW9S9/+Yv1P3zU5X0Ldo8/8YQcdthhsuWWW5obCNLFF18s06dPt76F/bd/+9vfZPPNNzf7Pn36yMsvv2xpu+uuu6R37962QnT00Uebe8ImTaVAIrsYxJhE/3YjAut5Rrn4gMj1zDPPtDxGi07+X3755bbX2T/mO+mkk2TXXXeVP/3pT1Y/2HoWCHQGXt9oz2PGjpXTTjvNlGi09X322ccmRCjhcAdwi/i9849aRE7AvQ/lPf2dubpUI7dL2zkfkGOOOUb+q30l3yzl7dP70tUJwiv3s3tasvvViZLAeubkwn4zvvytENgrrZPHLWKZqh0rg8gXv/hF+eAHPyj9+vUrTxvALRrYtggskscZWJ0gP11aP1Uk/VvRpvVtoDPw3Ew5mtB2JropXUZbUkFbLt2sclcxybGiyesJe++iHdMneIdoz0XniwaWLQRoYDl9YEFBYJGZs2bZ9iTs3vWud8nttw+01Rv83f/A/bLFFlvYfnr2wNYXy2ojRoyQf/3rX9KzZ0/5z3/+YyQUIvu73/3OVoXY6oT2lv4HYkzfdOKJJ8qMGTMsXPbeMsj98pe/lPPOO886cu+PPO1+35Xw8rS4GcTsqgadIrDalxf+/W8Ot2vbpjXad9sOLJ0pz8hLyu/444+3j/XWX399I6p8+AuhAOyNZYmUD4FPOOEE+5aCshs+fLjZBwIdwdvns88+a3UNjkE/gELt05/+tE1oR40aZTwGt85buLd6qiTLw6g1wKvgXkOGDLEVCtKZ96srg7ml39V3vemmmwoFwNfl5z//ebmK5eG5Jnd1gUkBq2n9j+ovA64eIJMmTrTwXbmxOuMC5UdcbQVOB8MeNMgpAwgEFrM8I7k//PDDbS8sg8/uu+9ux+EA3KIBQTuLm5zA4m/JkqWmVWHAOf/88+Xss8+W//3vf3Z6AftscUOHxzFc2PNV8jnnnGMDDoMgnSRh4YbCvvDCC82eZSni8pkGGhk6xosuukiuuOIKG7wInz25PkNDHP5+3RO8B+lHe6PvlT0h5Aii0w/9p2VemiRTzYgUhEugA5DHKS/5S16nXC/yE5CliN5ij81yrWNjxk+UeUvqZalaLFczFscrNY+yYOkbUzqceu2UeE4kBXe5YJbAHfFWTF5vWHuGbBXw9u3tCvE9sPQRTmDVQhYuWmh759GSvuMd75B1111XB6Tnyk4WDSwEli1MTmDpDE85+WT56U9/Kv/4xz+UrM62dnzNNdfYwLXvvvvKCy+8YAPXsDvvtDDZxgTpxR1p44NS+ot///vftsRdnW4bALJ36ip42WoSKgXLtSCwy8feJzMGHCxj+q8rE07aqiCwk9WdvldLkzSqR695qQZ4/eRvEVQhbu8m5CvvnHwQRromdx1A4yXfuLIlhD6drWeMHWhh6YM9f4EfVwZmzpppxIOBlv3RrVCE627bQ+4md8u4lvfn2Plz7ieH1wFQuimesVuZ/1ZxFf8cuZ2jvTCqzUoU5uaP8Nxde+5XEXncrdLGfWHXyjyDm5X2uZvsXm1Ltw5/hjMwLjPhrUZ1vlgbVTMUaNtuu63cdttt9u0OYz2TJuoeWljMcIfk9aE6vPbQprviGXNrM7l9cb8Cp8ruPQ0AN7k79u0/8ugjRsrhQ3yLVLoprrk4uPe0kibI6c0332x9K/3id77zndSHat+au/Mw8rAAz/zL0Z6Zh0f5MXFAafnHP/7R+nrPh7Y45mvFSn9KlsSwpPOFL3zBvgJmac8HFkuQZtAyHRB22mkn+fjHP26ZhDYkJ5YQWAYP18Dai+o/tLQ33niT7LHHHrLppptahWMGzt4oXhyNDAMLcuihh8m3vvUtG/z40ONb3/62aU+wIzyWG8899zwb0EgHWhnOlST9DG4DtDNl8Nxoo41ku+23N6LM4MUSFgMZYXi6wOuR0V0HOjUdvpp1GLPBKBEmPlNBIErLVLQKq3mjDlINeqdlapLem1dXr+kaslIhh8nFJOQpuaj1yfKVO3Wj7ppUGlWgo+T/vLp6OfviW2TgA2PkqZfmyZTFdbLQysVKMJUFWrUWSmy5hsHX92gSGtQuuakW6q92JeY3mXQRNCPy9mKdZzFQuKBFYHLLqSR0zLfffrsMHTLEJpssHTPY/PrXv5aBA5P2NdXDlnIPLBNk7mnTDKS03f333187+Etk0eLFMmnyZDnrrLPsg9MddtjRNA34n6HECXNOT4EkeZ/BFoKTTjrZTjkgvXm68cc97roSXq7UFUuSPeh9o940aStuXGgEdvqA/8jo/hspgf2rLLznImle9JLaL5TGpmVS39wg9Zp+m+poINROamWqi6l2uPBXA1eXSZo1jia0UmquuWA1GEJMMjoFdVu3fLk8+sgjplHl9BnGBjRkXj+8XF375fUDBcQJJ5wol116mYXjeZ+78WcX3JVmhRurd0V5AjRCKDLMvYKrP1v+mFTCLMMgPLXzuPPw8Z+783CB1x/gYQLcebyluQrmeRgIYbQVjgswf4Wb3FzvVjDrCLl7fyfuq9NGfDy39d5mr/kFJyjDyP1zrXKbI5VFixFXthhBfBweR3XaeJ4zZ46N+2xDQZuPHduTUHqx5x4e4JPW3B9wMzfnCnIzgHuklX1h5+/sdnpT3lP3LFyXwg7xNADcePyYz9V3YrsN2zHHjBlThuNu9E+qm0WeuR2Cf3fn4dHH/fa3vy0JbKv6WxUGsDiKq4dVPhfu9U9p72EByPdBBx1k+9vXXntt27qwXPsEd+f5trrQaQL7jW98wzSwJIbENjQ2mKYVDe0PfvADW/5jCY+BAXterq6+zpbwPvOZz9hHXOw/I/MokFEvvmjm/+///T8bjJi1M/PihdknBxlmDxvmyIknnmTbGD73uc/JAQceaOF7pQAzZ85SYnqOzeKff/75lLmajuuuu0FJ9N/l2GOPNS0Ae0KGDB0qP/rRj+Tkk0+WyTrwAXOvhWP3dOGErf+6H/QdqGSaxy0NlEManpbrFSrEAt4SvV9S3GMGsU16PhW1KyU3D2lTyDsIqUuen5CIBs3HOhXyn/xerML6xPSl9bLrv6+WrXoNkANOvUdueGiivDBvqZo3ylLtC/BLuTUpwWhuSTE1K5ltbCIG6mhbwl/q8OrtJF4trIMsOiwILEv+7HH985//bKcNfO9737OJKX3A3nvvbRpS+gZAPwHJeeDBB2xJkBUg+iLvf7DnftbsWfLU00/JRRdfbB00BJl9cJwZ6x0rS9ecQ/v73//eTjygX2OvLCejoN0Ank4Hz9Vmrze89CCwzcx6EJ31NOtkRxq1VimBrTMN7CEytv/6MvmEzWTJ0NOlZf5orR4ztdLN1oqjtUsnPkZMqSs68ZEWnjUMNPhMbBFjxvrcpD2B2SP6rP4qpFentZRh0cd2BPpQFAKnnnqqlTMKB8jIvHnzLS+9rwb2rP8ob8qISQuTDiY29OuYu3vsGQOoQ/wgDvv4GNhn6WQEwow7BHeQFZQjKEv4EQ36ezTx9P34QRiHqDv44UqaCRdhpaC+PsVNeAhpgRRhx4fIPKPVI3zSQh0ijMbGNIgTJ3bExd5v4kbxA3g3JxCAK+4Jl1UDwkN4Jk+wJw2eHt6FSRhpYZsMdRkFThnf+HEyf8F8G3tx3xkQNmni6oLf3MzdYe5lyRU3wN2SN26GvSu8qpequbd/ZpbMKTf2SPfq1UsGDBhgZsDjc/BMPJQd/IMtjkyUHn3sUeszPL/IG08XV7/Pw+AZIZ2ebuD+3b2/txpYGfI+wP2bO79m5gC/nib8+dFyDndL+OQB/AWFHiQcQk/dI61leklHAZ5Jd/W7+L3+MU628cYbW3/LZNJPZiE+hLS5f0B49q6KPO2ePx62x4t9aV74Q6nAijer5bRJ3Hq6Vic6JLCo4D//+c+bBoTE0FgwpxGxTASh5Oth7FF3awqNOJJghI+40Ir6FgIyZvLkKXL88SdYB0dl9eUCXo5BisGNMMkA/1qZEw+OO+44I7ZoWL0D8sxlkGLGYmkoQGNneYGBk1/78UpH+tmnASGno3BYAeg/d9ctQf3Qga+lXhurEljq03IdBBcub5aFTc0yX2WO3s+tb5Z5er8ymasyO2SlUp1nC1TI51zIc8/PWSrTVcYvqpO/HHC7bNT3PtmwzwjZcN87ZM9jR8i1d02TsbM1HC1DJhpKK2wy0WSTKzoQSIbWT54xakuoA6u3n+gYtB06w6ztWHtSAQy4aGDf+c532oTVz3rNO8i2Bjs/RosJNASDgRk7+hH2t7EFAOK655572Zfu9A+mgX00aWBxB2Hhgy1WgnADUWBPJv0FHTBu8g7cwXO12esJYqL4mshHHYiNaDYp8THR6U/jAllmBPYgeenIP8j0Y9aVOQMOlsbnh0jLnGekZeELygImaKWZoZVmTmuB2Dbq9KmRcLRWNSq5tedCGrSf5dqkdsRnRFdThHQiC8gn8pB+GM0X5fz9739fnnjiyXLgU0et8tPKWf+R/y6l2wK4nz59hiknfvazn9kEhbARtooQXzkWaHjUq1tvu80GbDRzLKGihdtvv/1sLzRjDvXl4YcftoGVK9o7trnxgxlrrbWWEsik9QKMFZBQtq+xQog9dZltL6zooWwhXJQ3U6dCYhtN8cJqAmMYYx8rDLNnaxlUgTRD7m+66WabXKEE8ndDEcNWOt6NfCEdhM14zLYZlEp77bW3nd7AaiV7ufEPmWPLho21hUKmI1jeaRtkvESIByFOxIEZ7jCDaOHWiR9h5OLlyT1ucM+7cE/eGtGk/NUNV8zuGj5cNthgA1MusWXQw85h4RdhQ/DZI0pesIXAP9ry9DhIM/FjR5ikn7Q4iNv7IHvvgvwTx/I6TbO6d3uuEED24bt7zwszK94Zd6SPeHCDYAac5AHc+s9nc098TLJZkWIS6LyKtLh74vE0k4/cEw/p8Lhw52BLBZyJH4VxDSzADfmBX/LEy5NwPXwEMxfMPWzCIa/c3MMlrYMHD5WTTz7Fyuf1RIcEFvZOZtI4WN6noUBa2d/0qU99yrSibAMYNmx4qy+LeQkylC0EaFrRdvgxWsymIZA0fJYT0byqR/PH/lQ0LjmBJWPIIFThbEQmPex3oYJgTlzsneLXvujQcO+DIASWDwnowFzbij2z3Lvvvts+6sCdixeCv0d3BclHkzNh+gK5+JZHZK/DLpN9Dr9G/nXE7bLHEXfoNcke+vyPI24JeY2yu+aj5+meR9ymeX2tye6H32B5vPvht8huer/rEdfLLkfcJH/771BZr8898ufe98kG/R6U9fvcLxv1uVO2PfB22e+44XLlkEny4nRtKzqOortp1DrebJozBtZCjGDorQv9I8J9F1Zf2grtjY7Y4R0gbRPJNbDsVWVCijnI218O7NkDyxYC2jxLhKZxU/M7Bg60vbEQBwYutFGQXSbbaQvB40UoYgMXbhjcIbLnnXe+fdBFn0EctHmPmzTn6ahO0+sJYiIH0X3afueSvFYIbNOkR2T+TYfLxCP/JFOP+L28fMzGMv6Mv8m4s3eTKf/bRxbcfqwsvf9SWfzgNa2k/ml917H3SMvLj2TycCuROc/prF8n9PVoc5FZWpBKbCG1ncgH8hJFAWXl+5khf+Qh+er57AO499HV9tybvV6ZpDC+7LDDDkYMGSvGjhsrJ5x4sk5qvmmE8pprrrWxirhYemWiwniF1p6tZpBYtFqQVTR1kFj2BR588MFWB9Bc8i0GHyDjj+VW3FOH77zzzvKUHY6KhFzxtTvjIppXttWx5Y0xEWKJkoWtLkyaiLdnz01srKTuO5nhHckrtKaMWeQTmmrebdLkSXLBhRfJWkqAIdqERzpY7WQMhcQzbkK20dKxHQ6CwjiGBptjyhiXTznllFYkrT1o7suixYtsYrfNNtvYSunVV18jBxxwoMW15557Wt4C0nHXXffIzrvsKt/85jeNOLKywRnO06ZN13ertH9rV0qu0C4PGHC1EXTKAz/rrPNnWwGB+DiOOqq/TXh8gkIZcqoReYrSDJB3CLyCusC2RiYIuIcvMHllrzwTBiYygLpGGVOGpJn+ge0tbCcibaST8iAtTz75lPTvf5SdmsHk9o47Btky+J+0fG/SSTf9D2VAHSLPKX9Wjkg33IgVXTgJPANeQ3z0OZQ99SsHcfqVNJSrv/q8UMuaush2qN/97vdWjygD8p9+k/6TJXq+9+HdSAM8DIJ6lL7XK6+kPb/epqirbNMkP+FHhEW+EB7tlT2rlAt1mDxluyd1Eb9MJFhhx453YfUMhSNhQ6yZ1CUFwp6JxGubvnPYnabcfPKpJ2XpsuIbI/KZ96TNr8bBqUMCS2Pk5Sh4Cv2BBx60gQJhcKFQGZyoDLww2ldABlLR0MBSEP5DBp6p7F1heRAzZjgUOssHzDwhvFRI9qk6Keblxyjp5IcV+MUeZhT+RTGzWGbopI8KZO71H3Gxl4YOicpNR8FWAjoO3BG2NyLCxz3hkT7C6I6gGfBGvlz9wtR5csbV98v2vS6WbXtfI1v2uUV67jtQNt5vsPTsPVRliPTso/d975D1kH4DS9lQn3v2GSQbq5uQ9oU86tlHr5afQ2WT3oNlsz63mvTsPUg27D1MNtx3sGy03+2yUb/bZf39b5V1+w4x4rpBv4c03x+QdfreI+v2wf8dslWfm2XXg2+UA08cKNcMe05enrVQGrRZsV8vlS4DikqpJdPHXN6Aqkt7oRP2jph2ZO0Qc72HXKDpQmPlW4bcztzqv1xj5G2R/ofBh47V98CyR6xv3742ELGyQz+DOf0RfRUDEIM5YdBJEw4fbaIxY0BCQ8hqEppYTwOw9JIWvRYGlfsuAKlgakIJ69urgZavaUO1b2pskBYlki2LJ8mCe86V8UeuK9MO/61MURI77qj1ZGL/dWTq0X+WqSduJpNP21Ymn76NzDj1LzLpdO63l6ln7ijTztlZpp+7m0w97x8y6bzdZZrec53ocuGeMul/+8qkS3rJpEt7y6SrDpbFj14vza8oqW0mZe2DfGIMYE8z/TPfKtBH5x+geF5y9T7Wy9nNbHAt3FFmkFcmKowN1BncoKGeNn26nHLqqTZor7POOnY0FxMVtFcM7BBOtqdceumlFg6DK/09ShDIH0QU8snSP2MA9mg8IUR8gMKEx+qaEgbGOlYKIbcoUB555FEjVdQtiCpKEsYXBnfsXOmCG7bEQSipd76VAuCGsYgfAGLvr4fHu/PdBu/Le6FFRvtLeGh+0WhBUiF6uyiRRFtMvpCPEFbaGOmHAPFuHYHtDcefcLy1L4jxpptuZh86Q5KYNEA80R6TNog7ZOc4JWfkD/vVDz30UHv37bbbviT9Xp60efJtgw02NBKGH1Y90Zb+6Ec/NrJM3tPmeDfi5J0hfuyjpL17mISHEDZ5AX9gyxF5A7+AzEO2iIN2jR9IP3EwAcYdCivqyd46qeGrfL6LgXcQHhp13gGihtYT7T6kkwkEdYUweHc/E59+h9NSHn/8CdvuQPws0e+1115G7Hh3TlBhUgABPOSQQ0yB53Xb6wHQN0vvpv2fXbUs+Xqf90ehN4cP2tXMJzysRlFWcCXaG/WTCRBlzyThwAMPtPzxPCOfmLAx2UADS96gxWXSgsab8kChCJnlvcl/vhtAi4+ij++aKGPyhjZCvpL+aWp/uOYv7RySTD4SH3WZumdcTP9RN1E8+LuuTrRLYEkIjZrN9QwK+TFaXolccOt+XCzR2gH4R1wUeE5g3f1DDz0shyvjZ6bcv39/c8esGgJLhSQz8IPQQbFHiopChpI20vjM088Y2aWReJp8MCVOKhTklU6N96AynqdhT9ECIFzeB7G06z9mjt0VTB+0SzDyukDl2Wnz5Mxr7pOd+l0oW+1zhWzZS2dvvZRY9bpDidYgk569ldD2uU026NtaNupzu2zSR90pwQ1pX3pqPvXM8on7nkpeN+l9u+brENmwzzDZqNdgnTQogdW836DfrbLO/oOVxN4v6/VJ5HWdfkNl/X6DZNPet8qW+w5QAnuznHbFU/LwizNk7pI606ZrT689nxIa26uIaD3FTOut9QsuXQzajbcfZuAO2iHtC3PfQgCBZXbOAA6szZH+4t5JrJtDStGy0mmzr5X2zuCAGcu0DLbETd9Ah8/gwsALgc37KezR+qAtQLPE6o6fluJoKy3+3BXgzZma0NVrr6qJKAis3lo+krd1M2XR41fJpJO3NAKLjO//RyWyv7P7qYf/XiYfsbbK7+15kl7T89oy8Yh15CUlvhOOXE8JsIqS3nFHri9j+68ro4/ZREYdXcixW8io47aU0SduIwsHnyZNc8Zo4pIWrj3Qb5Kf9MMQPQgs5c2gbf2xloUj72PJ37wPTu+Z9k6ifKCsIAX8OltOjhDII305YwEDL1p4SBxljxYYAstkqU7DIlzChBAxnkEqOWKI+qSB2bIw/rAj/Qzo1FHiYwy68MKLjPhCHokXAoAd9cq3rkBUIIS8r72XlteZZ51p4w6rgGPGjC2XfyECaNHQjHFOJ2nztkK4EACUNYTLdghbvdTwuEJ6mSRADhcsSHXY846VRhRATNIg8x0B7et9999nCibGaZQ9jKPET3tD0wkRgRhCwlnBQGnFOzC+c2LITjv9zfINsmd5o+lgOwWTRMZq9kRDqDCHbEO21l9/A9NaMp4zAaXMIUtMPilzJh7A8kPbYVnu+s+fyTPnJ7R5CCfmlCdpZg8pWkdINmE36iRwsb4vhA5iSd6y/QKCiBKOSQNkjHyA3DJ5oa9htZd8gAQzSUGZB8HDjjQw4SBf0FBut9128tRTT1n9przgHrwn5mg//Z2QHPZmhXneB/p7A/IOok3Z0o+i9WRVgYkjdRVtLGQbAg5ZJ1/Vs91Tz9AUkzbSTLhMrpiQMdnBP+FA8KmvbE95/vkXzK0TYPKLH6oiXMqSPGW7Ctp+8pswve5DuHl2M9wDf5fVhZVqYOkM/COunMCSCBLkwrMlukiwVzB+HhACy4zQ98DijnBpiLz4tjrr2WOPf9mSHplDZlGJ6Swuvvh/VonIAMsErRAsKTHTYAZKxZyoDYZKyKybQdLT5JWAe/brUgFZMkILQ+P/kc7cabQUgneMDkt/4b+7gYagOSD1LUr49R2mLVomDz4/Ua6583G5bOBTcvngZ+SyIaPk0iGjCxmjMkouGfLiCoL5ZermcnUT0r6Qn5e3yqfRhRn5Olb+N2Sc5qVeB4+WCwe9KBcOHSVnDBolmx4wTNbvfbeS2Dt1wqAEuO+tssuhg+TESx+XG+8bL89NWirzlzdLnVbFCoF14oqgls06dhP+qrHVhq6B9QeQK4V3WH71+/HaNmm3LN9Ccvj4ylJd9Bt6Y/792cLUtgvJYABgcGA5F8LgBBaCwqC5RM3oTzhPFGJCG2dghNBAqgiHNu6DP1oHNHGYOzxOB/f5c1eAHgeayMeATEJ1FCjKm7TolVMo5o2RRXefLZNP2FTJ6u+UoP5Rxh6zkUxQEjqm/wby4lEby4QTtpBpZ+wgY06pyFR9nnXBP2TWJfvJzEv7yAyVaZf2svvpep16xQEy5fIDVfR69WEy9abjZc7Ak6Vu5K3SsmiqpiERzpUBMog2ihMfKGf6fiNems9IXq5l3uoVcwRz6osTWAgcGiVW1ihLr0v45cozJ1GgFWOAhlgxttCno1GEvECCIVoe9vjxE8yOMQA70kx42OGfekbaIVCmxdJ4WNJl7EPTxxY6NGH+PtQrPzKMcF2j6+95xpln2NYD135BlPGDNhPtMWSEcdHHIPwhhMGYxvtDPNBwER4aQ+ov4yOkCQLrcREGpBYCC2HifToCfmlTkHfeHbIMWcWc9DAOQmw4Ceh73/u+TRhZnveywO/QoXcaqYPcQZb4wBvyy1I7hAotvP9UMEKdOPLI/pafvkWAtFNuENGf//wXRiZ5J/eT8ib1E/5MucJPSLfve7c0q78pmk+QeeyYLPAO9FH4hVPwHkxUIGZ82ERclCt76iFqXKvr23PPPWcTJSbJED3KCHPSzvYB+im2C5i5phVBO8oWEyZakE3c5/DwHRaX+lvh3Qshr1Ds0cZY6od4Y497+kUme2ypYILOygP+KRMmS9RBSLTXT9KGO+oWBJYJwG677WZ1C+0+2l/iJBz6bOoVmmTaIvFBmPmW4J57RpRpx5z052n3d65+19WBDgmsL8tVE1hPlCNPrB9NgtqYLQQMKqjy0YZiTgbQOFmuQfXOwESjwC+ViUrMweN0IlQ2zMkYhF/+ovIxA2FWy2yOSsWMiPQSPgLwR6OAwOKXwqew/qmNhlkKHQ4drn9Q4vGYX32H7gnSzSyIxqWkXwdCHfpsUGRbQS6YtSmafSZ6jzaoTsPQUl/h2pbZa7XrjJtXa9cZN6tqx3Jva8GMg8l0EqGiNdLycYnWr0UqaMWRqct0cnfwzbJZ74HylwMGyx7HjJAjLnhULldiO3JKOlKLMlL+Kg0qTc1ar7V+6p8kVrJaZ0vRumv/KHNMVm9HsTLkbY4rHTqDBW2I/VJ0dJBL9vWxB5ZTAs7U9sqATtujzeVh0A4ZGNGuMMDR1pNWYC8zYwBkKQ3tzh/+8Acb7Bik2HeG5g0tK8uz9CW0ecIlTNLDpNftcni793Tk6ekqUKrUIdocVxuwIbE2UVHTxvnS+PJDMu/6w+TlI/8k0478g0w5bTuZepmS0SsPlInX95fxt54s04aeI/Pvv1wm3nNFKfP0edmTSuZGDpLlLwyXZSpLnx9m90ufH6qikwN9Nhl9ryyb9Ky0zHxBK+EkjVdrotW5lYM8ZImbJUiO0GL5mf6XfLf8VyFPvbyBDczcF+Y5KWDrCCQHDR5aHw8H91whGBAHBmZW2NiXCKlhUCcN1AM0sB4m7rFjLIPAQkKcwFJfGbAhYhAblmYZe7BbpHUUkso4hsbqpZeSlhGQTsYQCCzhQkZ9jMQODRUKHNIIScSMdLDMS11li0Q+/nAFhI8WGI0vRJyJHPZoNhkzaRMQWPeLe8KGtEHAUAKtCoFlnCc9TDrwh7mFq/lCPkCaeXe2DXh+IsTLO/N++GdspqxuH3i7pR1Sa1scCvIIiA8uQb5A+vDP2M3SP8T7F7/4pbbpKyyf8OP54iTOw8EPJIyxnD7lMTSwmh78oWnndBPC5yM+0uxlRh2BYBM/fuEEmKE9hrjyHhAzdw9IAwSW/ab4oTx8YkR6IILUd8oTczU0fxDG9dZbz+oyceZh5u9WorjnHay+e9tRf1yZkKMJhsCiFERp52Ew4UKZB4GF3DLZwdw1sOUkKstXyoZ0oSmmj+YX8Vj93nnnXUxb62E//czT9nE9dYB3Ih1wLpSQlF8Jws3aaY783VcXOtxCACunQGmc7BmikZA4MsGhVau4S8AvicU/x2jR8GHuzHDw+4x2FGz+RYtKIyUTHU5g84+4CAt/gCub+KmcNGL2R6HuR6PiheKVijRClF1zQ8aqhSzR2Rjqdxo6hTZ1WjodAbHK161BWWhFsf2RaOm0IqkJuUf10ZwxSaaFaJ6Ujzh04dkuySD5WlHcri03K7Nz6c5hWyZZ3nH1DGTKkKh/8q8dktatehVsOFZr3tJ62fvQq2Tv/oPlyHMflBvumihjZ9Tb1g+OOHNCTJlZqEX99OiIBTtaYSpTCCzkVTs+JjDm4o2DtUWte7Q9JrEsTdLBc0XoKFliZB+7u887uLlz55mWigEQfy60ZyakDFB00oTD3jQ0rmhZGMAZ4NHM8nEOIN/oCwgfwsOSIFqFHMQPynwu4OZdAa851BquVtBW2JovHInVMEfqxtwts69Ssnrk2jL92PVk/g1HSMNzt0jLxIdFOE5r+TRzJw0cqcVHWC48qzTOVdH+NhfcN84rnl/RuBZpnDrtcoFAW0JWDvKN8QJtDxMVFAS+587z0ccK3HodyfOYe8oJwsHkBKJJWS54ZUHZf7t7wmD5nkEVgsUWEuJiXyhbTiCwkFT6dCMAKhBYCAh7CBl7lkKMNX9Z8oXAMia4BtYJLCQRwsXSMvuuCaMcYzQ+CCxjHNo+6rMTBN6BQd4JrGu/SCMTMzSzrErMnjPbCB6wSWoBlot5LyZqTNB434kTWUVIq4h8sGb7DIv8IF624pEWCCx573A3FVSeyR+IIOTdjqPSMvT3I04UTqSf/bi0Myf9AHvyh/EchRTvS75B+Cl/yBtptPB4N/VHOiHCaJfR6tFOyRMILPsx0cBeccWVFj7wtCDcI4B0o9WEn0B8Sbe50fCf1HdHU4oGmI+zvEwA/jnRBAUY+cjqLGQYfsJ+T8qRFWH8AK+rcBM0rE5gPR8QCCCaVggs/ZCXIySQPGC/KhMY4Omohofl8Hj9nnRDHF0Dy2QcAosb2gZ2TNj4gBJNPHYg30LA5IT3Ijz6UfpCSDmaaEg7CkHqORMZ0g4In48LiY+tQbQN8vqoo4629/byyNOPGXG83ujhGW0RF5Fbhqg5FYTZCRWEQiXhbRG8PKMBz1RIKgUViwZMxWCGQxzMlAiTjgLtCQ3Y4/M9bxBYZho0HsLxykQ8FBRkmnApLGaibC2gEK2TK9zhh30eFIzNwjR83hcyS9gsQfoMwgpB/eQdSLcFReFSXBLJQSA35CVDJALJ1XfnYyDqIVYI95oVyW/lSu7kktt1xs2rtavVsLWlFIKJZx7Uk3bCvbrS/143aSZUscVL6uWks2+TgfdPk6lzG6VOvXNmLGWkLi087lJsxJT+etweE5LKFV+pbFP54jLgbZr+hY9R2O/FYO39SS0hL1/7Ns+LHoMmbasN86Rh1FCZf0Uv2z4w4/iNZOld50jL/JFa5ZSkQjwhunZqgdY/Ti5wsR/EoE62Ic1uj1B3U81KdWnV6hFaHzTc9Mv07xAV24unsHGl6J+BjRv846p2jBlOChgLfKmcD/YgjV6WOSCwKDMgPrZUrWEwcLsGNm0hSBpRCCzaewgI4V5/fdLA+nj1zLPP2GojaUeT6ASWr7ohVBBD9me6IoZ3qW+oNwILESNcSIFpKDUu6hiEDmIHeYDAYoagdIEooJmDGBEeID4EoM1mywvbFtjPijkEdqONNi41sE6WzJ9eXQOLEggC6+ERp99bX1T4AeQ15D/tJd2xJILuj8keRJD8RFFEnjlpIRzGU8Z5CCmTUhRS5DuTCCaYaAbJD+Dhsk2BciNOyoR8hFRCvJkkwAvcbe7P8r1IO+mGwMJNnMBiR9rQlkJgSTOkjfA9LNxQn9DaU25Dhgw1jkE6IGmEh2LL35E8wA9l4BpYVpUoZ4A7lG1MuCC4pMsnJJQBE2oILJrOVUEaLyppJh05gUUDa5xKgbt58+dZvqOBhdewHxvA4djby0QIEk04kPwLNBy+I4Cssv2AcsUtqwlsbbEtBBouwg9WkdeUFyQdgk8ckGPe39PZ1ejhCQRlIjDTDCOz2IfETBHmXf0lnXcmdlUzaxhFB0WHMGrUaFPhsyRDB0Mjwe2E8eNtgz+zdDQsLAtSgajUVGBmxxBYBhsaPZnKLM0rJxWH8+9oMJDQm2+5uTyPzNMOSCdaGrTHW2yxpVbwtITDshYNkgKlg8WsGt7guyVIdiZcbAzUu0RueF8fwAoia1886y2CE66pWEvjkBUlZTH1jSfPW4R7MlAviP1xX7QTkWXLm6ShUcmnOqOvtMPrzZ+TCQ8nxZTHQteJ4MJJb7Jx4TlAG6bfYJBl0nv00cfIyOcTGag9VOpISncysisDYuNCaRg9XOZeoYTuyHVl0olbyqIRl0nL4qlqp+SVHyMw/+ahkEr9IfRcEtSNbVHAjbvVgbO4Sz47D/pNX55lhY3zeSET3p8i3CMO+l/khRdfMI2p2x2iZOJzn/+8bLxxTxl25zDr1z0MBxogBuHdd99DidJcO0eTsYI+n/7dtwlQBxDIJwQEAoAWjXEHpHQ/aoM36UbjyuofgCSiUXQN7IQJL0ljg6ZR00G6qVeQW8Yjlvid+CxfXidnnHGmbYNgGwDkAXJD+tmigOYYQsy95wvvaARIw+AjJAgsH0/xbriBwKLRcw2sH5nkSh40b7wDBBbiZmNmES7CXlRPn4P4cg1steYWQsoqB+My23R81YT3J0zGXcZ5NJCM1QDyzbuR1xAfCBDuAXkGAYRcsvRP/pIGCCJEFMLOFgIfl/PyBrwT74of3+LISi9cwe1QaMEtSDNlyVYis2tKdQ+yDMGFxLKaQ54w8fEtBKz+YJbHzYeEfK+DPzSV9ClWZuqGiRQEFl5DWfiWCd6JiZjvga1+l1UBftnzzIlL1F9Ov4B48l4IWzQhlbwz9Z5yw/yuu9MxWuQ3pJT3YlLBh2zwICZZhM37sGLGhGu33XYzpR/mnmaUiRBhygdCTtuDD76R6OGFRGXhZbmnw2F2xwyKxgCjf+tb32oNmI6BWSOkM4dnIuGxZMDpAmxSZ6aIXxocL00F98rKzIQwmfFsqxX3cp31UvFZBmEPFQ2AmTCdjs1qi/BJI50SaWR2znIBDQk7KpSDeNiDxNfHZDaNmndCttxyKxk+/C4j6fjVQLWj1kGjIOBeaN0OJNvHLkSfeRUfjDT37F+yxMSvPnipWB4kVyErl/LG8ltvqEt2RQo7g9ZPzeNGpZxoSsltfqDApxGu90q5XpSDCWSiffJaRsEf4rSfcVIxwzcv6CsgMuyVRRtHm4dgsCzLkif2tQcKjVJFW8QSnJa3GlE/LLVNi2X5mHtlxlUHyrj+f5KXT9pcXhlxiTRDYNG+2q9uqaBxbVZiVrRjwN9cyhuvq7h1Ipv5WyXQh2qi0Vzy0Qcklv7dB1r6VOu/1Y33r4w7mEFEOEbJ9+0Byg+y5lvQFi1igw3RaDwqjAl8/8CWBbSghEN4xEWZQxpZUvU40ARDctC6oZC57rrrjTwxZlAfGNxdA2srg7PTyiD1hWe+y2DwZsWuRfMMO8YPVvNQ8lDH7FimgnhBYBl/nMCiaXVSRhohO7wbyh3fywq4QibY+8v7cyYp74o5H4n5KQS+hcD9QJp8CwFE0PfAerjAiRVp9y/licu/5ictpiks3BAvhIy9lRBcxtBc08n7UE5sMeAjaZRDhM92ANIC0WIV1PeiI7wrhI8lfMZlm2BonYNIQqrIYyYMuHWCCLi3+qPPxL9s+TJTitGuUXyRLoA9v9LGyiuKMLSiEFqz03/4g7BTZmwpojwJDwKIBpZ8wC/vTVguI6v2wHqZcKUOsI2CuHxSBCCBEFjfA4v7zsDd5VpY4ASWbwLo2yDdXr/RKjOBoa4RL+b45cN4fgwGAsu2AHgRdZEJBySfbQS4cw0s9ZVtX7QHg9q5PVtIeH/iYGJA3fEy8brdlTANLKAAuUdeUeZOBjAD5GwwroOLK89UGhh8XqEQ7jFD2MNGZrC/xMNgBup7hChkGg0DCnb2cYY2fjoEloLIKCoZDN828Gfp455CoDKxrWGqVjw3dzdUKtJDh0KcNHziJ1ziZDa1mP1D7kevXllIX7cG408m+kp265QISaXO3yTpH3q8tIeSO/yYu4qzkLYky+uSEHjmIQZtKy3Lpb5pmTQouWhUorCsbrks13pn+latew3UP3PrHpPwl+AoN2pmErYNFMHzp7VlYfHmBe2Y5TWW2Rjs6bwhAtb/6MDtE9WaAmmyn4GFiOrgo48QWOoHVYpfylo2Jv0SFwT2JSWwC+4pCGwzy/TFdIjtAMXpBYC/1VLekA1lnSV+veIPO2QVQT9K3zxj+nQjpAx0KD3QkEEmWWL3Ppb+GvID2UXyQZe+m4+AzznnXOHMUJQhaJcgGaxUcKYqzyhFIIm+XAo5GjDgGhuEIShol9BEESZX0gB5ZXsDP2hhy9uaDg5cZ7yCcKNwgXQx9pAOxiOvR2inTKOogzlholyBXEN6UfagvfQzLxnL2CeIP/aDsvzupIfxj+Oq0ABCmDhNgfjIF8geWl2WdiGF9s7F2Arx4GMaFDxoyfADUSZM3oW9jGyP4CQOxjkfnx3kL+/rYzV2jK/8eEH6+GsH+5ofYGdu1R3xQG7RarMyOnLk82YHyUeRxFYBlpMhNJgzMUCbx75Z/36GiQ12fGwHQaJO8G6eRu4h9ZBhtqEQxqBBgy19uMEv4qcRLFy00JaymShxfiznsi4tyDD5DImGoDGxQHNMf4B/tK+Qa9KMss6J6nPPjbQVAzSsEFjLKw0LOwTeA8H+1Kc+bZOypUt0oqigvKgfEGlOcaC+kLcI+6zR2qNtR9O+qmCCQZod1CnqLXWbtsVEgPgpeyZZlA+ndlAupJk0wJF8Ag8Xo32SF3w/hLaZ7Z2UDRMItrZQf8g3tOS4K9us9pvEQ5tDc86KeSqPlD95OrsKPXLShniC2ruaZGaIw59zc664deRheWelf5JZYU46rMJq2jwsD4Mr+1nISGZdfkSGuVUBuPeOIvePEC6w8DIzb0QA9/lzt4O9m+ZFIZoLKhCeRHoQcoq3c+EZe6hrvYqWjLkz5A5D2hXqS0VyK/5CSLRzbeJjwuWatw123EyjOoSMNmh9QygHL5vCs1+KMkrlhD43lWrhAIucwOL4zQzNV/oFNG6swEBcIK/0C9YfWKbVGrQQ2QZgBLbeyhA+CYmlb+Qjq7rRd8nsK/eXCUf+WSaeuEWFwKof6gT/uFodJEj8potVCcTNWxnmluag1W2HyOu+5a8K2kGWMvfddz/hgHyWMVmi5jQJ9tGdcOIJtg/15ptvEQ6E9w+SyjD0+vLLE+X88y+wJWw0RmgW+QAXwge5Y9DmpAvGEq4Qld/85re2DQBSCdmDDEEWIbOQFrauIdgRBiSAyQ2kD2Lbo0cP+xKekwLwwyrfD3/4IwsPf7wHpIA6xeAPuYb0ou1jcIdYo52C2EJeCBPtLdpUwvNjiKiP7FmEyPFhI+9GvqBFQxMIqUcLRl4smD/fPmDEDRpW0gGBQYlDHqBl48MwtKSQWw6d919roh0AwrGxtSBF3ENMIWvkC8T+m9/8lpE0iJcpjhg/tBxIL4QF4gfphvxQDmjA2XfLkjrv5eXG1T/mIl8hmLwn6SUMtIc5ASItxIcmc6211rL8IF0c0UT6fTxGmDzQrtF2skpLWUO+0XSSbxBnd8eKLjyB99tOCfg+RfyU22233W6EG7dMXqiX5CllxbYU3mvCSy9Z3SKtxAcZZ0sk9eGMM86QpzQdEEa2UJB/TGJwBxlHWcaEgkkRmmjILZrbVYHnD8I9BJZ6QXhofEkjbQHiT/nzXhB3+jncXnbZ5dZuSDPElC0AN954kyn0qItou0k7WycgrJQjGlaILaScCZOtWBX1gDSQx2jkaW+YAa6UYVejAwKb7gFX/4cdszKuiNv7c26uFqXf9FjpEs3cn7kWz15ZjZRqOHavV8wRGgYdCB0MSwM+q/Swqv3ldm1dCdPdlHEX1+4H0kzeV9hMokjl0NZqnHLBDA6UFjCTBIHtvHDRGmQ5rDXO8tMl1X4tCzRjSjRaZLk0NqdZP78qlJaLGVjwnfKd8OxPFj7icXiZWgzUUy9AF57fzNA8sfZbtGFvy9X9Qm2B9NDyqCcQWMpW/2PMD1g0zLWPuOZke2AXjri0ILBap9Q/7ZdW36oOFRcLpri3P27o9y7FpZX7DmB1ueif/d7BtxAs10Mk9+/Xz76rYNCFALB1YPas2a36cBdAOBAjFBV8WIP27wD1y8kEaPx8aZrxCG0RHxERtgtjBGasBEL0MCN+woGYosFj+wFL2bk/fgmK5WUmPyzl4x5xewgeBAXtr4W3f7I/SONjcIeYQsCwIw2Wbr2/+H8Xl1sTeDe0wiwtn6EEmvTgDkJEeqcryXB3kBHGPAgK8RMm4fHjP5AOftUSMo6dh8M78F6+gpnnL/eM96xQQnIJjy0JlM+/1R9kxv15meKeJWiIj+cDZ6lzfjskM+cPHoeTyEMPO7RMN+Xh2yk8bK64RzsKQYP8cyWvcOdhImhM0dbzvrwj4Xr++nnyFr82HMLlrFgmNu6GciHPXYuOGwiqu/F3I2z2HKNoIH/xd6D6t3AOPMAmPrwHpNvTgFB+EESINETdw6Os+Oams/D3BV4O1AM+GGMLAeXFB120BfILc0glGlbcQzyph5BTTxv3A7VucaoH21ioU+QjdZ3VA/KW+o4Zk0/eI+dThM2RqLQ9I7Zq7naUf1ejPEbLMqiYmXmmcXWCyz/As2+EJkO5N3fqz5bm9OrwsDwM4G6Bm7s7v/dn/WP3bKZHfU+ngVCxmQXTyClQ0oHkYVj4RTgeJnA3+X3uzr9WdDfdD6Sbd62wGW2iJlrCKvquamp/MuF1k69EjZDksrAMaVs0f/hL3pG32gpUyGd9VgtbkTVX1DE6YjqXOm0rnIih+d1IvaUNqT8lsl5qFmrymAl/CDmVULpSStRXtVYrE3f/ZodmBJrAvO17W/c+o7ZASbL2UZwybIWZ0m17WhvnSv3o4aaBTQR2q+Ijrslqv1SatP6kWpFqSaoCqTKkf/6U3RB2LoUx/r0uptzrGOSnE1HGB+9DPc8JPy8PH0PcHnE7789x02rLB26KsvMVO5ccvtcTIUwP1+41rNxcXZmdGqarorTLzPwe/+WYpsKV+Oyd1Y/D3BVhmBvetfDnz/6e+HOiZn7xV/g1f0W47teVS5jbqoI+O9wvV/fLtbQr/OV2iJWHl1sRD+F6WZpfFewMhRuAnYcN3C/g6uUBLG1F3PYDB4W/PCxPr6fR7gt+og5Lt+aueMbOJMsb98uz1SUVgHl1HBZmERZm/t4WlobJcWue7jKO4oron/Le2wFIZq3fsTMo06Rwv/AdJgBsZeEDdQirx8PVyjB/nwLmv3Dn+Zi7Bzz7vcdn710I7zTy+edtEsIEwuPhmsfVlTAC6wn1AubezYG/gLkrXpx7/tm9/vNMMfPCX/5ibu6djwMzi7MI19NgoRfhkVksa7A0giqcDfqozvP9M1wRwiCjgYWjdiX03hpPEa67L+NUM3tP/efX7g97m1aCGf9NeHSx1+WG8qGhc80dhLQpVseQLN/yvC2s2bvn9dSecY6d/mlqrpdGFa2RJm2XE8/cJJoCidXabLG6eKlZsG9yeBv37USAdu7tP5Vb7YCWqrVDy5C/qRaAdK3Xgn3F9sDOvOrfVQT2JX2xhepQSx+npfAn1YjU9lOPhlTgldQl1TyvSwjPnQV5S56Tv95/O7j3/tZB2bh7yJP3w77VA1hYRTgevtv7uARyNwjPXBkPnBzm5W/26t/DQBzuzpDZ6Z1dgfkpwnKU7vRKuPm46DA7fQfMPf4c2POOiD97npV5Wwgor/zjPrMnjrbyG2DPPW7QvLlbrqW9dVIp7BwWvrrjCjyP8Wt2hblf8zwu7bkWcSV7vcdc4W5IL2niPs8TgJmXK8Cdv6vbuT3pytNWnedu7/doGoG75UrchOfpwZ3H6X6Bu3Vzns19YdYZmPuqPAOsPqMpZlsC2ng01qTJ4fkJcr+kw8uStGFGWjw/sScc3tvjIn608OzzRvPOaskhhx4mp512um09sTDVv1/fCNhHXP5COaoTxct4hmJnL68Zkr+sh9VWhvqLOnDr7j0Mh9qUmU08bIpm3wr7XNivwQwkr9ju38NrE7jT+HO3wNOVv6/H3W3BqxVZ6rdJyP9CeH+3cGMtw3TD+9PQuGqehbQrlczzfEM0U6usqFJZ9bd7q2bkv/7RmquSSCkUhqt59DKyctI/ZRnhRuut/iUYXCO+hGzBvslBG8/7JYe3+VoDZUapKt22cqRsrdgLG2laWH7ENb7/OlI5RutltYbAqq+8XVs98RqR6uvK6y33KU6vU1wtqE7A+1Dy2wdqrmVeq3nZ/6qZjw1WTm2UiffvDuzzscXjyoEb39fYyq7qOQ/b0w3aIwAOHxu8XjnMXeGX+/y9uXp+tApL4/R4gYVR5Td3D6qfced5YuMx/3BTuKt2D3Iz/DOWAtLi8QLcefo8bIA5ksftsLCL8Ln393YYj1B/rcrfr1V+2wJ+W6XRw3H3em3PL+b4bZXnmX+zt/61Aq8nebw8e56BPD7ctFdHc3erAsIgHZBLCCv7iDndiX3hfPxePSkp4yvey+71Wv3e2GG+Qp4U5gh7jXfddTdTHvqHipz24AS/2m9XY6U/JVsrIIPolNgvhArdMy/wGkC9bksM3NBYS4NAp9AqEyuPVcZtAwfkuXaoxdVQHQZiSPZtWSOB7gfKjVJlOEAYQIBdIU6Ni1Y4heAV/4iriQ+/1LdXAPPq9QhJYbWNFe1bBdPN4PkWCHRnwHu8LkOKOb2Bj8z4WOwtb3mLHW/KyRDs+YXE4hZ37gf/TrpXFU6K0bSy55U9t3yQyF5huFhOmt9IdAsCGwgEAm8GOGls4a9pg3RCg0FBYOvG3iczB/y7jWO0iqU/85xCCAQC3RM5eQVsP+OjKY794tx7NKMI58ByegdEFXGNMcj9dwT6G7TsToQR0oCykA+52ELAGb85ecVNdZxdjSCwgUAgUCNgGEiif/lRgRUI7P3tE1j+mWfzoBIIBLojIIQ5McyJYq5lxRwyyRWz0pwtLvQhnQB+bGuHCicuuD/CJU4nqwhxQ2CJD5jfIm7cdTWCwAYCgUCNgKEjif4NAhsIvGkBeXSiyNXJZE4oMXcCae4groVdZ5H6jUp47rf6GVTH7wJw29UIAhsIBAI1AoaCJPo3CGwg8OaEtuFqcsqHV04SnUTirhWJLAjsqgI/bRFTl8JRuiowy8ly6aaLEQQ2EAgEagQMA0n0bxDYQOBNCSeEucazhN7bNoKC3LZ1gseqAv9oeP2e/bBcc0LM1cWPQy2fX2P8rxZBYAOBQKBGYPzTRP8GgQ0E3pSAFAJIom0l0KvDiatd/b5wD/w+N1sVsMfVf6CqrbDtn14blUQ76X2jEAQ2EAgEagQMFUn0bxDYQOBNCYihE0fTwmbPkFY0sK20nmrnZNZhxDd3sxKUYWf+iZdTCCC0ADt+8MLJbWHYilB3NYLABgKBQI2AYSGJ/g0CGwi8qQEJhUjasn6uhbU2viKMSLZj1xm4Xw8HYRsB8edElZ/Vze3fKASBDQQCgRqB8U8T/RsENhB4U8NJot+/UbD+KEP18xuFILCBQCBQI2BYSKJ/g8AGAoFAuwgCGwgEAjWCRF6DwAYCgUBHCAIbCAQCNYJEXoPABgKBQEcIAhsIBAI1gkReg8AGAoFARwgCGwgEAjWCRF6DwAYCgUBHCAIbCAQCNYJEXoPABgKBQEcIAhsIBAI1gkReg8AGAoFARwgCGwgEAjWCRF6DwAYCgUBHCAIbCAQCNYJEXoPABgKBQEcIAhsIBAI1gkReg8AGAoFARwgCGwgEAjWCRF6DwAYCgUBHCAIbCAQCNYJEXoPABgKBQEcIAhsIBAI1gkReg8AGAoFARwgCGwgEAjWCRF6DwAYCgUBHCAIbCAQCNYJEXoPABgKBQEcIAhsIBAI1gkReg8AGAoFARwgCGwgEAjWCRF6DwAYCgUBHCAIbCAQCNYJEXoPABgKBQEcIAhsIBAI1gkReg8AGAoFARwgCGwgEAjWCRF6DwAYCgUBHCAIbCAQCNYJEXoPABgKBQEcIAhsIBAI1gkReg8AGAoFARwgCGwgEAjWCRF6DwAYCgUBHCAIbCAQCNYJEXoPABgKBQEcIAhsIBAI1gkReg8AGAoFARwgCG8iQhs6KBF47qvO0Wl4NVkcYgVqFkVekBRJakNKCwC4fe58S2IPaJ7AEYIh6EQgE1mz0yLu81QrtdVus520br1u8rzNW9k7dG7wXA2a1BF4b2srTJC0mqSW4dIy2yqlzPt8opHdsnca22hFmuXlbz68nXu/wO4eiTCGvzSk9duFZCeyyMffJjILAvpwT2JZlmsPUJ70tJBAIBNZk9GhiZq9oaWapKg0YzTbzXzVY5+8DAOFoeI2Njem5gIdvcah9dwB54flBuhsaGsp3qFWkgSwX/mG+MsFdY5VQN7ANrAwr5qWDekMbWFHI3yYTcjlJKin8VKQSZrJrq5ykFsqJNlH0IelRn1VoO/QxtPfSTv81NekbF25c6C/y9oUb7yfc3u3aEnOHe+7bsuPe7bNnt/c0Aa6r0g/iK/lsC6ksOyeUpQpx86iBUsItPGcEdnz/dWTSiVvKKyOcwC5V503u27wGAoHAmoxyC0GjDhx5B95ZMDjpMGADD2FUD2KAgccHMLOvcpMPKrUET3dOYnPYO9Rguhm+nOxoApNRNTBewQr3OdFKxMidVV/Bq7HjujI7x6ux47oyO8ersePanllpl1tYfiIQkkLKvE3lg4kLJqnMXFIwFUn2OXlFvJzeSHh79gkxqK+vbzWJxQ32DY2JpLpZPkGsq6uzNkd/4v1RM30MfYTC+xu7V3t3lwM/9EV53A7va6rbdJ5uB+FUh90eUvm0B+LpjBBXQxLqCo8aaLUGduZV/5aXjlxXJp24lSwacZm0LGlNYGujRgQCgcDrix7VWg0GD8za6vzbgw8GeTiO9kgxZtgxyLmWpdbg6SYvGHQBZqS5rXeqSZDMVRL941IYObFKV+5aC38TrUhuVmaX7tyu4qbazoW/tRy25RJ/qiXnJTCQFaTKHfedgnuifbrUDl2BIBrh5J/e08ar2zdkMSet2Fs/oVd/xn7BggUyfPhw6dWrl2y++ebyxBNPWNvLgXuEMKv7MoSwTKtblQazL+LL0VZ6uw6UI++3XBOoV0i1FTd/9LlxrhLYe1ZCYLXfVpe1VSMCgUDg9UGPaoLpHX91x94e3G3e8fOcD1AVSQOVk2NzxyCCP72vRTD4IZ5Of09/p5pMN0lqTygWv65MCvfuTd82N64St+Pfqti5dN+wuWYGbeelC6wil2p7DwPkYebmBh7aCqhNx687rB1r27Y2X7QLNKm087vvvlv+9a9/yfrrr1/KBhtsUN5vuOGGssuuu8oll14qEydOLEkoRPV///uf/Pa3v5XPfOYz8q1vfUseffTRcvLo/Uje5yCAdHCPnbvh2bS1kOsinQh2mIM3vm3zLvSNSlZbNE3FRCe9V11BYO9ul8CijdfUlzUiEAgE1mT0SJ2j9o3ZYMCVzrxTKPx75w8Ik0HENB8+CBRmDCAeNtc3ZqDoPFZ4L71HajvdpKsd8XRnRisIr4u0ZReyovhNmbdIZo94nubi/NMFs5X5ye1WcJQCgb4kCmOOugRG5PWdrX1oG6d9NDSk/awvvviiXH311fLf//5XfvGLX8i73/1u2W233eSkk06SM888Uw488EAjtD/92c9kl112kRdeeEHq6uus3T322GPSu3dv+cpXviJf/vKX5fHHH08aWOIp2qGLw9sr17ztWt/Ds6WvMml3t3avV38P97+64aXWtvAPCkr/oqJJh8NCaZV+680CJbAjZMZVB8mEI//cmsA2LVZHSu7NP/8CgUBgzcYKBHZVO2/v8PHrg5eHQ5iAsNxNvtcM++qlvVqCv5v9K+55F94D+HvWHkhfLuR5tag5aTfRx1xyr9V2ISvKCnm8krxF8vzNvXLfkVs3L+GOCCDtiU37YjHrGtAGyjYBUSwIIm3F+5Vx48bJzjvvLO9973vl+uuvl3nz5pn95MmT5cILL5Rf/epXZvef//xHpkyZUratYcOGyTrrrGMEFkKba2DdjccNrK/RZ8io25tb2KACMxMIotq5mD+9Aq6NTcU2qsJsdcCLrj0hhS5NaoBQknUqEFNpSntgp9s5sGhgt5SFIy4tjtFKBDbVA0IgxEAgEFhz0cM7cuAded6ZdwQjrcVg4YJ/Ov+lS5fK888/L4MGDTLNyuLFi83O/LUxiNQaPI2eTt6JgXf8+PEyZMgQeeSRR2Tu3LmF69qB5qYOYS780/IphWVGhHtc8C8b7vzBxcZCvQlpX4w0QDVctP1Y3iLqpErSjf5xqd4X25Zg5+JmJXioDQLL+3hbtrpVvOOECRPkn//8p7zzne+UG2+8UebMmVOu0EybNk1OPvlkec973iNf/epX5Z577pFl2ncQ5v333y9bbrmlfO1rXyu3ENAe8WsTYI9Lr963EB/PCGEYETXjClHNxfsra+8qbu73nQPuVu7WXbQn5GCrmqSGXFcgsFcdLOOOXN8I7CtOYFuWqiu2QhACIXVd+QcCgcAbATuFwDt1rnTaEM2xY8fKk08+uVJ56qmnZPTo0Ubq2POWhwOxg+SxLMjgc9RRR5m2xQcHH1SAx1uLcAJLGhl0IeMHHHCAfP7zn5cdd9zRBtVaQj4QVkTLpJT8HzTWzZM//Kc/BWwA9wExpG2pEEeEXPV8LcmIipcHOWqExEXrVxK1SZYrF7z5vYEbQq6kITnqeviKCm28JIQqE3TSB4F917veZQSW/gEySruiv7n99tvlIx/5iGlhL7vsMpmrbY38ePDBB2WrrbZqRWA9/Pnz51v/Q1/0xOOPy8MPPyyTJk0qTzKYMXOGPP3002V/NfL5kTapxi/xs72BPmzUqFGajkR0IcaWZnXj0jnw3l4wreFF1RnxUFwD6/dpC8ErSmDvbXcPbGsCS2iBQCCw5qI8Rsu1jIDO/u9//7t86EMfsj1rb3nLW+Stb32rvO9975MPf/jDJth98IMflJ///Ody7bXXmhZl2bJlNgAwgDzyyKPyuc99zvy//e1vlyOOOKLV0qDHZQNepweJzqPzA0/78LRyXbhwoX0R/Yc//ME0ReTJTjvtZF9G1xJ4a8QGvipJJMoJa7UkN+6/Ag8tpH0hByGOSavt+ZmT11xSPrvf3DQPsxDqsRdKLlj7vYEbTwfh4aBrkbc5J4IAczSw7H39wAc+YFsIXnnlFbPj/RYvWmQE9v3vf7/1FVdddZWRU4AGlhMI2Af7zDPPpC0EGu7SJUssnHXXXbfskz72sY/J7rvvLiNHjpQmJaNsTeADMPouiPP/+3//TwmthtFQL1dccYX87Gc/Mz877LCDkuglZfq5QqyRzqMor0qBlMCks2J/fTLjQVofyUdcc2T5Sj7iSvWoSEMKLBAIBNZYtPlTsmgi0Iq8/PLL9hEFgwMDyEUXXWRaSAYXNB2XXnqpfOELXzAi27NnT7nzzmHlIMAANnXqVBscGCT4iMMJbL6kx737Ae3dOzDraGDBDSTa/ZMWBCh1Lvfh5oOspyvXIPlePn/G/aTJk8o82X777W1fXq2BJJtwnwlvjdTrezWgVdb7YrgrpRq5v5AVpb08az/ftF4xWaywE6vPfFhkz8VZsc3NHC+HtpF6y7NKE/b66OKFV4La7WHXFl566SUjl2whuO666yoEVkFfcuSRRxrRRAM7dOidNhmmTfoWAvbAMlmkXSNnn322fRSGdhYt6pQpU+XkU07TSfPn5b+HHWaEGS3reeedJ5/85CflU5/6lJFX/IIlSoAhuNtss42MGjXa4qKN57JqSGWZF4gXk4uVM2FnZq0AcbUTCJapY5VGrQN1+tyk5LRxgVrNlPpRQ2X2lX2KHzJY8RSCNkINBAKBNRJtElgHg8htt90mX/rSl2wJ75JLLrElODp7zkWFzPKFMfZoVlhSf+CBB8wvbiC6bCH4+Mc/LocffrgR2urBwZ9dA4w4QbVBhX/uvrA392rn9vhFq+LLiwA7vyKECQE1kso//BbhYoadP5fxKRK5qLjlbMr9999fPvrRj9YmgSWZvLpmYZOOZ42NvGsy5xUs71TsK2cs2hT1bO+sFxWGxZC2hfwp89zF8hmBSiZpog6qkPdWX+shUjwrpYW8GnE1l/rXtahaX5XINLcs13s+XmKCpebVcXJfwOq2GdYWILAcp8XqxQ033CDzF8y3/GFb0WmnnSZf//rX5f/+7//k0EMPLSe6AAK7xRZb2N5YtgjUFxPTE0880Y7YYjsP/czy5cuN+LLqs+uuuxqppe2ijd1zzz0t7GuuucaIM/6fffZZOf30000WLVpkcTmwR/y+c1ixMLhrJYSrV+pBo5FZLyf3S7vTsm5WwkqZN2l/piRWmpZoVZhvBLZBCeycK/q2e4xWiiEQCATWfKyUwKKtYAD54he/aAR2wIABRvacFCKzZ8+Wbbfd1rQc3/3ud3UwOl39pWU+CPDf/vY3+cQnPmFbCHICy+DiYbkZ95hzD9xc/7Rr54I94eVuMHN/iD8bic3cYAeBdRKLvcPD93u0Ov369SuWHnesTQILF4ITwXWMF6mhiRoYASoclDTMhQmACsuVnEOpAyyvHrJysTw3cUMlI4VASI1YaGE0a542Q0I1/5t0dlGpq9RfNUP0vkHtG3RC1tyCLFcTDraH2FAulF8Rn/Mefy5vi4caAgR2jz32kHe84x2y9dZb24kEaD/XW289+eUvfym/+93v5OCDD7a99/k+1/sfSBpYVoD4aJI+iXwbPWqUjBgxwva1Mqnkw69NN93UtiFst912tl8W/wsXLbTtCZ/97GdtCwOrSvRNN910kxx77LHy0EMPWXiOvK37feeQF0ZCKouKlM2wCDuVE/VE4zcNO/1hqh82udR0tqB1RxNfaGCXj77LjtEa038DmXDSXxOBXTpL3Wg9oW5VV4hAIBBYQ9EpAss2AQaQK6+8siR5CBoEOn/IKRoSthL06dOn1NJCYNlLy/KdEdgpU0p/Thzt3gb6Ikw1L8302Qd5t/Orw9wX5u7e/ebubWtA5sZhpEGfkZyc486An+IZmacE1jWw22yzrQ2qtQVGSH1X3hFp1PxTMTMGRx0MWyCnRljJB4R7zCAOaPsQ7tXOx8J8XHw1sjL/a1TY+kfrn5ESpMjbZp0UsCUAckL9rG/Q+qZlohf72rxB/dUpu6lXr9rC1FxJbLP6Q/PKd+gsK5smNisTJE9D69uaAkv6//jHP2wLQd++feWUU04xLepxxx0nZ511ltx6660yZsyYsi16e2NFxwkse/Pr6parfWqnTJ4H3jFQDjvsMOnf/yjTvNIHsW3psYLA4o5wOWv2e9/7nhHd6dOn2xm0J5xwgsyapeRP4X0Cfl4dKAgvjAQvCxdrgqW13lBPbELJZFFLHRKrZrREBLckJ5HZpWo4237IYNqA/8io/hvJuJO2KQjsHH2BYnJj9YN3aZ2WQCAQWNPQaQKLBpYPHzCD0BnR046VDp/9a+xRQ7uy++572JIc9tUENv+Ii+srryw0DSaa3XPPPdf2tfHrO3feeacNThzPtWjhQvvyn71suDnnnHNM2EfHh1UMPEuWLjFNyvnnn292fMXMR2W5hpc0Pffcc/bhB/Egl19+uZmx3xc3ni69sXvS/6gSVMJjkL1KCfzDGg8aWPbAuqantkD6dfhDa4M0KQHSSUciVJQZBErzRf/pWxZXF/R/Tma5EpZeEB8PX62szH83D1urSitJN2qJ2ARBSZmWSZPme6PaLVejxcsbZcz4iTJzQb0s1mc+wVmq3rCDxDJ9qNe62GBlxRNbDrhCeAhfb5E8feVt8VBDcALLFgJOIWDZn/aJ5OSR9sezt9sHii0EEFhOFKD/od8ZM3aM9QmcbLDPPvto33Sl3HLLLbaFwAis9iseHn3JGWecaatEEGdOR4G80tf4hJyPvjwN+sfuVw0UhBdGQiqLijghNVA3dIJi2wRSaasZ76YTl8LEQsOP9Uk6eWmcYwR2+oCDZXT/DaoILBMcwqB+aH6WJDYQCATWTHRIYDnGBgL77W9/24imfQVMh6+DDFc+hvj7zn+3fa6f/vSn5ZBDDlWyuLg8CJwv9Rk4ILDsdzOCqMDftddeZ/vT+ACMpcTf/f738pOf/ET++Mc/ygUXXGDaEeSQQw6Rb3zjG/YlMQPgN7/5Tdlrr71Mk0J47GuDvOKX7Qp8tcwXy6SfNHDMFweisw8XLQ1xEcd3vvMd2XfffW0p0j8qsUFP341nBjo+2Npoo43MD0uevAcfjvieX34dqLZA/lJGLCkmrUzS7CgpUJtG/WMaP71vSxjGEagsgh8T9dPqmsvqsnut/ldm91r9r8SO/MrzD+pQLZjXq/ul+vCKPsyvq5ezL75Rbr3nRXly/FyZ9EqdzFfzpRogbtC1Eh4ktpEyLEJPEwx1pGGZkAC/N7hhbcE/4uIjLfbAzps3X9tu6kcgkU5Yaa/WvzRDYpvKY7QqGtg664PYu8rWA7Yi0K+wBxZtLfvxyy0E5J2Gt2zZchk9eox8//vfNzvaMP5HjLhXs0vpfhE3yFdbXDoH8twLI4G7XBK4o/y0HG2S6dp1lealGj/bRphkaiXQ9zcNrX3QtVArwwxZPnqYzLzqABnb/88y4aStK1sI2CdbtHfzg98s1kAgEFjTsFICy6Bw7733lhpYNJFoJYETx3vvvU9+/OMf28CEpoTfPseOQYmBhj2wEFiW+fjaGGDHDxwwKK211lq2H419bGhojz3uOAuLpcDBgweb5hRtzfHHH2/bFNjLxjYFBhYf+ABalrPOOtvIK+c6knbsGMAgopBNPijj99YZpCC17N1lKwDphsT6IMogidb3N7/5jRFeBkbCIf1sH4C88sX0X//6V/uwpLag76CUqbFJybsOhpBQqM9yHcsouaU6tqHpQ+OnQ167gj3uQzqWzuQb5guVUyzQ/GeqNG1pnexy4CWyzb7ny0Gn3CnX3DVRnpm4TKYtbJRFBYGt03Ki7NJEgnJVz9UE1sXAjROp2oL/kAETUDSls2bN1vbLu6S+hLbsoA3S3tCKsgLCx5L0FWhVaZusrjCZpN9hxQX/rKKwCkNf5R9X0s69f2DCzB7cn/70p7LxxhvLBRdeaMRXIzN3Dl9Vcuk8PN8rfrxoSiE8I6b63hBN07NqSUM+TRYlotqoNcSlYYFWoBnSsvhlaZk3Uuqeuk5mXbaPTDjyTzL5xC0qH3EVPyWbwlfhSqSBQCCwhqJDDex9991XnkJwwQUXGpnEnBMI+KoXUolmFA0tBNcHIjpryCfEkQ+e+vfvLzNmaEes5nzMdfzxJ9iZjywrskfNBwwGod///vd25izHdBEPgxDx8vvpLBGisSUNmDPQcX300cfkpJNPtZMSfEmStBDX3nvvbV9AQ2wBAxZfM7Mkufbaa9uPErANgkHO42Kg48zXu+66q0wbAsn2d4ac1+I5sLw9S9HLdDyFrC5sbJE5y5pkXqNKU7PMUZldJZhhl8tclWp3Ie0L+VWdh7lgP0tlmsqLi+rkLwfcLpv2vk027jtENukzSPY54X659q6pMm52syxtbpEl2pTqtBzRmKM/19qu5dsGgS3BgxOp2oKfQsAeWM6NZsLqoL3Snh3epmlvTKA32WQT63/oG5gU02433HBD+/CLrUS4Y8LK1iM+OOXjSvoD3C7XCTftnb4AUsuqC9udOBKQePK2jbv8edXg+V7x58XjkqB3kFe2DqB9LQhsS+NiaambqUR1nLS88kJFFjwvzePvlYanb5JlI86XudccLNNO/YtMO/y3MuOEjSsEtmWpxp5WWQKBQODNgHYJrHbhNijQ6TMoQCg5+JtlOwgfRJJtAwwsLOejeYX4MfBo718OGizxoYHleBzXwKK5vfnmm+2Xd9iLxsdd+EEYnNCucOyNnzvLYEJY+OHsR9LDRx9og92OZUlIMsfnYOZnuEKqGQD54th/hQdwZQsCGlu+XGbfHF9AL9S0sdeXd2M7hH9YYmHqdf68edKrV6+aPQeWAQy9Dlq/xSqjZy6Qi255RPY89FLZ67BLZe//Xi27H369/OOIm1RuWVEOv1HlBpPdVHY94vqQTgh55fnWphT5vcvht8kOhw6R7Q+/W4nrUNmo9zBZr/c9sn6fu2TzPrfKTv0GSO+jb5ZLbhkpY2c0yCLlOpRnoq2uhS3IkjMjq9L8wRx7pLYwbtw42XGnnUwDe8YZZ9hkFtCunKw6uPf2Rlukv2HlBc0tbXjSpMnWXmmjTIDZZsRPVbMiwuoIKyfsb6c9+6SZPgKSjBYYIs3EvK04Hf6cm71aEALClhMLzfa/aqm65rVhvowe9YKMvP0ieeaiA+T5M3aVcaduJ+NO0z7p7N3k6dN3l6dO+4c8ecquMvL4reWl/uvJlMN/L5NP3DIjsMutflADPL5AIBBYk1ESWCdpgCuDCh0+S+QsyzGIHH30MfLAAw9a53/f/feZdoQ9oC9NmCBLFiftZRFAIrD19UZg+YjLz4EFxMUSPhoVzIiHpX0GHQYh3ENg+WjLCSxh87ORBx10kJFpjsxBG8pPQEKccXvMMcdU9rIWXTj73b71rW+Z1uXXv/61/FYHN86PRMvLL/MwCL7tbW8zjY6nh60FbGHgwy0fAAHXBRoX2wggsAyiflyP2+dXX47sSpj2VQXyulDl+Wnz5Iyr75fte10s2/YeIJv3vlk23vc22Wi/QbJx7yGZDJaefe+QTfrcrnJbKT1DOim3qwxUucPyslp69h2u1ztlw/2GyIZ975V1lbSu23uE/LnvMFm/332yXj8lsb1ul832uVa263Ot7HzQtXLIaTfLdcOfkXEzF8oyLVj7AYTyBAkViJCLURdK/40hsG21Aeo/WlH6ACa/7E9n1YXtALRB9rnTvtgvb34gskUfMnfuPDn11FPlBz/4gX0ciub2u9/9npx++hk2EWbCyr50JrP0Gfx6F3tk2VZAm95vv/3Kj74sLfRvGjanHjCppb9ZneCtW7d0nniXIj9c9E/KIy3H5kReOR5r9gsPybOXHiZPH7eNjO2/vkw+Ym2ZdMQfZfxRG8rzR20qI1WeOHYbeezY7eTJY7eW0afvLAsHnSRNMx5X/xpGE+/JBCfFWok5EAgE1kyUBNa1INbZ6z2CBpZjoiCwfETFR1yYoc1wt9YZ2xX/aQCysFSWLV1q+04ZuPyXuID7Ixw0mCzfs8zPFaIL0YTAMsBBdG0/nA5AaF8GDhxox+FAqDkhAS0sAxXbG9DQEDfAPeGjcSHtkFI0umxLQPgCmStbDhD2ybInbtToUTYIopVliwTbIIifsIATWPbOlgS2aqjI89LypwuhMQs7X5fpFRJbIbCXyFZ7XyGb9r5FevYaaKRqoz5DZeM+Q5R0KZlV8rUJ0ptl7UyUnG3a59biXq/+bNfsvm8Hdr3bsePancO28Mk7yP+gJL0RngeXsnEvze/9VHoPlY363mUaV2SdfnfKn/txHSbr4bb3rfKXfjfKLgffLCddfp/c/+IUmb6kzraCcKhWSWBZhoa4Ur+sjrlAYpEuRFU9t/bazIdIzTJ+wnhbLfF2B3l0efKJJ2zvqrcXX9IHtGsmlO7P2yr9BX7QujKB5mQQ9tCjgcU/++Y57o9965zZTNiYk0Y+CqMfYn87J5isTnjuJ3BH2Wg5UEb6XJhovqT+MZXfMs0snXDXT5eFL94nIy86UJ497q8y7ugN5aUjlbwqkR173Oby8unby5Tz/ilTrzhQpt98rMy6+3xZ8Nxt0jTtCZG66RrGIiOw7H0l+yweizUQCATWXLTSwPpAwpXBB7LqpxDw5T+/uoVGwwcEQ3Et/RVhIAw0voUg18BCBiGLHGnDPlI+ruBMSM5oRPhSmKVASCYfZxGfh8s+Vv8YhNMJ0MZAdDkWi312Dt6HPXAs96OBxS0EGBCOva++I78oxn48DjjnQxMGQva4vvvd7y5/uYePTeydFbj1HzJgCwEElrR5/hEmQhzA86LrQPx8wNUg9ZqOWQuXycPPTpJr7nhKrhz4lFwx+EW5bMgYuWTIWPnfkHF2vdSeR+k1yeWZmNnQF6uuhXmbdsV1ZXb49zDasuPapl1xXZldV4dtMmYFuWzIaM0/run5ksGj5OLBo+VCzfMLho6TMwaOka0OuFXJ7EBZr+9Qk80OGCK7H323nHDls3L9fePl8QnzZGZdo30cxm5JdsAaNdFyNSmPQ1ApqliiSl1Z3zQ2rd/UfUDd97ZAm0G76vXf7YD5Kdzpgz27Hc/4pZ8ozRS4xZ2Lw/3mYbvgB3PCY3sR/QCrSt6eVxcquc5f3olyKkSfMeWuqUgT5wHbqQF8fNUwW+pmviCzHr9JZt57icwdcYHMvfscmXPPBTLnvktk0aNXyZKnb5W6UcOlaeIj0jJvjFaImVoh5mvQSl6blQg312uVSH0asaXSCAQCgTUXPWwAUfgAUHb82hFCVtkugLaTn3pEs+FLcoihuLofHzB4hjBCUMsfMlACiznaE469+sxnPmNHVKH9RCOCHT/xCIFFAwqBxa2FR6esYaNV4SMQthH88Ic/tHNdIakQ2HK50AaINKjx4RcfmKEtzfezAh9Q+blJNLt8kMVePY7bgSBz1A5p9vC4QmA5iN1/StYIrIbBgEhYhKmOLXyu+PP4ugYal+2va1DRtOg4qeOa1Ot43aBWfNm+VNOzRN3x45OtJe2dhSyx75Krf0FffW3LbFXcvFq7zrh5tXadcVNt1ra0qOgESmW5yjKlE0u0XizUfOfTpXkqLy+tl53/fbVssd+1stX+g+SfxzwoR13ytFxz93h5bkqduUFHiBadLSHQLatHJjyo0HRdCmN/7Ep42+Bati+VRiWgtAue3Y0/487aC6LmuC8CM3vIq7tNxq0Jrsdnj/zTe9xjThtkNYi+4iElq2xNYvWFY7wuvPBCm/S639UFQvPUVMgrE33SrOnRv036h3LEhDSbHeTTThuYrY1ull7nqGjpQ05NtMaYcEKB1oYmbalNy6W5UWuVXllvUQu9av+j8XHkmvZqKfxAIBBYg9EjHySs82dg4J+aQQhZikMDy741lv3QymJng4leuWe7gA9cXBl8MOPq58D6FgLCZ8mfPahoOSGgkEJLgwoEFrKJBvbiiy+2LQRpQEpp5MoA9Ktf/cq2GfArPWhkWabM4ze3+o+9cXx4xhmxkNmxY8eZZpb0ER8nD/AlM4eio8Hlwy4INHtgCZe0EiZCXrkGNv8hA08b8DRwJY7crktAdKaZU2GkpJgQXpfxUq/1ymgb9SH904HPFqcb9EqOFWEUwgVCVH1ty2xV3Lxau864ebV2nXFTbWbiN6UNNAX6b4dhqWm9NDY32pmuTCCWqcxeVif7HnaZ7H3YNdL/nHvkhrsnyosz6o3gQlpdnLzaz49SeLAgTwjlmyXEjZAuR5E+q/t6tT2nmKnYxJY2bAlNMIJa/KKWtxdg1+Le+yO/pz/Kn/3e4iieCYsrZhzVx+SWY/noK37+859be6b9u5vVhUpIpJ8GR6m1JrCcJsFZwAj3lGlqlJDY4vgsJaj2AwcF+dU3S2Jhpme2ZzRoX0T+0YL1ze1ar/b8DDFPeV4HAoHAmgjbQpAPIIB7Osmly5ba6QJ8KAGBRZPhWk5zVwwgDEY+mBjUngGMHzSA5LEHlqU7PpwgLva2ER4fT6HVtV/dUv9OmCGlaFjR0vKRB6QZ8uhYsOAVJbf/s2V8PvBgkCqPyMregzDHjx9vvwaGRpWTE/bZZ1958smnZJKmZbISYT4y4cMwvoyGzLLnla0DfPXMtgk0NqSBQY+0cwYlpy586EMfsg/JIM6QbD/1gHT6QGsaIfXT1aAoIKw6kqXxUYVk1DdouWr2pEFPB/FC7KdKlSoxOBrIwsI/95aj1VdQbZZdy0tm5tfykpm1uoJqs+xaXjIzv5aXzKzVFVSbZdfykpn5tbxUmSWQWZR1QVzsBFfyFTKi5lo3KBPKgl/2XaIE9pzzLpX7H3hC5sxfbOf0JrqbBL0aIUBOtNTsrkULsQVVukdVVUZujHQ1qPveHwDvEzB38soe1NyNEdvCjQvAjZFgBL9q7u2/rb7KxSamhVvcMWFmFeVHP/qRtVV+3MRPLrGwVVY/KAwtASOwRdlbyaRyoUyX6yPH3LEikt6E91X3bCmwkscvWlWoKCQ1CblISC6Elwu+Ks/keCAQCKy5SASWgUX/WcevQgcP2P8JueO4K7QYBx98sGkpGRw6AgPYqFGjTfPJmakcjcVHV+w5HTd+nC3nQWA5a5WTDNAmcMLBjjvuZNsH0M6i6eTLYvbhctKBDzwMQhMmvGRfKH/3u9+1X/SCNOawQbBwT7yQYuIjXL5ohtCSLt6LL5Yhurjn/TnVgB8wQHPMMWGcbgBxnTlzpv2GOgMi/iHPkGh+pAHya3lXDIq8f/Vg21UgCbZcqdKg9+kc0crA1sASJFqf4td/EnVC1DHJ5RVcuj753RDkaiIdrQTG6vnpBYCRXuvrqWvs09b6rPf8fKxZUwe1PSKE0dyCpnKZPiuxoS4RVi5qRBR5NInmdD2s/Vi6E3iurv9mRgXVq2tm3Zw2A0pyWfilHUFOAX453QQz3ODHyW0O7F3w6+SWyTBmrx8oEA3fCWxJYvVOrUwDq/e5kH7eo4X9ws0Qf9KKX/KmIvTR/OVDMHt/7vGvwrUUfc/X9x0DgUDgjUf5EVdOuJ577jnTarLvlSNpIGr88hREFs0pP+3I3ljvJE1LUgw4DCqLFy+Rhx562L7mh+i95S1vsSV3SOzw4cNtMGF5b9111zUC6EfhsEVh8OAhsscee5o/lv75+hhyycDjIF72zPKLXPwOui/jIz4gMpDyTqQHwgsRhoATV48ePUw4zYDzYflwi0ER//4ObFPgGB9ORGAPMPttOVGBL56Jk32y7IH19OHH/TMg8VyadSEY0tgO0Ni8XKVOnxrtn5poenSQ1KtSBXWJ+BDKPYSL9OtttRQDaMiKAqWo6MnI/STYWNZ5Hqpz4zV402evFlydtFJfknscuAcNzX4aVEOnfTIbMTcVSZeS3qhAaYio6+D1PK/vtNOcSPnkDjeYe/uwa9ZW2mo3mPnqT7UQlvcP3GPmwJ+TX4Cda2hXJyox6l2bBJay0fSpkBrXthv51DTZdgJzQR4l9/ZoRvrH7wtx51z1FbV6aBg6a7VqU9gFAoHAmgwjsHTqdPROvNC8sleMI2kQPrIaPGhQ+fzQgw/asr8PIDZgEIYOCgwMhMMHFPyKlfsZPGSwEc1ZM2daxAxGfBU8bNgws+fL4MmTp9ge0zFjxsrQoUPlfiXJbDuAgJIu19gQH4MSRJKjdaZMnlxJS9Fzc48fvycMwuLonfI9snNo3Z0PgPhlPyxpZpsB4unnPFq0whBfzqk17UlVfCb6zLUrAXllS0Bj01IlsHw+xBaB9PvqftRZOcqtIBpALvaHdyoG1FbXXFbFLnezMjuXVbHL3azMzmVV7HI3uRkEVtuO5hVkxAXbVtmoQrZTRSpZ7f+UzGn5WP0pg3YPGlqxHzKVm9pVIYUBQfJJCVcC6jrk9Zx72pG12UIKC7vk7diluu2AVn4V+b2HD3Dv7db9OnjGXXWYLqsLhF6JmXApL2pCQWCNxFJKqXgLapvqi3rEzIrcpAiJiwseVawKFPetzIgiN7eA9BoIBAJrKJIGNuvcqweAErm5dY7Fc2aO3/b8l3bt2OfAXT4g5cLAB0Fm3ykaUEgyy/dqWbqphprav87ANcnVsLjbsQNtxt2O29cTkCGITHMLpBUyWwye9mGXOkibYFtLOehlYn8KCxsd9bm8YpbLqtjlbnK77hp2KnfLXhfLPb0pM7YQ9WuTCP2XTLimEkNMC4eFBm1XjycrJPxW/6t4ymkRZm8QyI+iL2mrXazQThTtmbVlDtrsq9pxayjsPMyVhb2qIJRUOuk+QZ+sjhhFLe7z8qv4aSVq0ZY5SXVZ0bLq2asL5oFAILCGotxC8EYjH1C4unbEiGxxDzBH68kRWwceeJCMHj2m3Cpg/iAYb2qk0QxqZPc+uDGoIcV4Wko+2Jm4B/ekVyNt2PlV/5SyMjskt+Oa2yEr878yOyS345rbISvzvzI7JLfjmtshbleIPrbKR3uozmzfZMCmg9ZFYjmdh+Nh2U1yWaG6ubjD3KObBboC5LSXZSXn9a+RVky1hEsteu6qQmfTv2SDi2pJrgv4Qyn6B8lnUWamdoFAILCGomYILAS0JKFOWPUebSsfVfGLYPx8JMduceQVXxWzDYC9sJBcBPdOggMFyA6y0yUfFd2syDf+Qa18R2daGE8kiWxN1+QquS7uzUzdtWvHtfDv5vl9Nw5bb5LkeWx5yp88s8nHIi/tb3KWu+DZwnIx4D6VhW9UqEgKr3S8gt9AV4DspvzKiYiZYap3K5DYjMyay9aS6saK/7zeqMeKWOVEiMclN1dngUAgsIaiZgisA+JgZFRhRFafn3n2Wdl6663tFAE+7uKnYfkxAY63crJrhINOO1A9zKVxrHyomPq/nLQ26L/6QvjwC5v0D7rEv+Q6Xf3e7XI3Hdm15caf27KrzbCpfWSpSRv84bULsaWyqUwqkiTSo65wyG0ugS4D2V9QVLsWpVJAn3ISq62q3Obh5ivYsyffj9TyPc2+NaQtyQueFh0IBAJrPmqOwDLy+5YBtK+QUs545YOtL33pS7LWWmvZ+bCcdOCElatpcE3rFSBXWkuiqYluVQgQkpOjRGAbMwLrBC6kfUmkpTPi+jUvjxJeUApMK34In39tkVcnLuoRv9y658I40DUgqytlVsn+ShGoyQokNZNWdhBWJ7Aurd3n7TeJa2iTrtbTEAgEAmsyam8PLFffQqCAmHJG7OLFi+3DLbYMcGROez8Q4KQ2AHxobWPQNDOkdT76wBvSOSH3yM101gM/H1vRYOfC1IATIhIJLSgGAVDVi0ee06MT3eQ2SSIrlXKrtBG1qAjGRViBrkNeBG1JghaMk9VqKQqNv5XSXrHUEVx3JIQTCAQCazJqTwOrgISifXWYdlXFSS7CjwY4cOunFvj2gwBg6CQ/yKtqAlsMc5pn5iwXRr80noZ0IFxY5M81120JBDZpUaEnBb3AM7fOOKjbepMIaxuFYGVVCHZcHNznEnjDQPZ7sbpUisTLtVoo+3SHeyerbUkerksKobUEAoHAmoyaIrCQ1Hz/K4QUYJaTVJBf7fxZDoJvqfgJOBgYIURIrtFjyDPr1uLjqUtkZwdgQkXdS+S0ItX/EjU1mpLXUc9zM+MmoyOYYeziZVK6d8NEY7xcExUKdC28PFqXipNOKzKVBHebpKgVFdE/rZ6rRf+UUpilP4FAIPDmQc0RWMTuIaPFPaQU8up2oNS0Fj05blwCaTyrCP+cRvm/ZGfIHZPFPtqag9wyZEXRzGLvNXWzqItJ2nBaLSV4INMTEU1hFsYuWOeCmd1UaFJl0RkzcxDoMlQKxovLS9PFizKHm5V21QavVgKBQGANR01uIQAdaVNLApvBiFkQWEM+liWp6OZyMVQb5tKmYUgroc5Vn0CfWbcrJXio8uhuXNoK2/7QDtLCckW77nQp0HUoC8XAXV5krYotg5u1suMm95Dfd1YCgUBgDUfNEtjA6kenxrUYBFcdeZ7lskrowFMebitn1RYugTcar6lEck9teV7lAAOBQGDNQhDYQCAQCAQCgUC3QhDYQCAQCAQCgUC3QhDYQCAQCAQCgUC3QhDYQCAQCAQCgUC3QhDYQCAQCAQCgUC3QhDYQCAQCAQCgUC3QhDYQCAQCAQCgUC3QhDYQCAQCAQCgUC3QhDYQCAQCAQCgUC3QhDYQCAQCAQCgUC3QhDYQCAQCAQCgUC3QhDYQCAQCAQCgUC3QhDYQCAQCAQCgUC3QhDYQCAQCAQCgUC3QhDYQCAQCAQCgUC3QhDYQCAQCAQCgUC3QhDYQCAQCAQCgUC3QhDYQCAQCAQCgUC3QhDYQCAQCAQCgUC3QhDYQCAQCAQCgUC3QhDYQCAQCAQCgUC3QhDYQCAQCAQCgUC3QhDYQCAQCAQCgUC3QhDYQCAQCAQCgUC3QhDYQCAQCAQCgUC3QhDYQCAQCAQCgUC3QhDYQCAQCAQCgUC3QhDYQCAQCAQCgUC3QhDYQCAQCAQCgUC3QhDYQCAQCAQCgUC3QhDYQCAQCAQCgUC3QhDYQCAQCAQCgUC3QhDYQCAQCAQCgUC3QhDYQCAQCAQCgUC3QhDYQCAQCAQCgUC3QhDYQCAQCAQCgUA3gsj/B1lVptw2JlS7AAAAAElFTkSuQmCC)"
      ],
      "metadata": {
        "id": "hrOQG1VWa1VX"
      }
    },
    {
      "cell_type": "code",
      "source": [
        "from nltk.stem import WordNetLemmatizer\n",
        "from nltk import word_tokenize,pos_tag\n",
        "nltk.download('averaged_perceptron_tagger')\n",
        "nltk.download('wordnet')\n",
        "\n",
        "def lemmatization(token_text):\n",
        "  \"\"\"\n",
        "  This function performs the lemmatization operations as explained above.\n",
        "  Input Args:\n",
        "  token_text: list of tokens.\n",
        "  Returns:\n",
        "  lemmatized_tokens: list of lemmatized tokens.\n",
        "  \"\"\"\n",
        "  lemma_tokens = []\n",
        "  wordnet = WordNetLemmatizer()\n",
        "  lemmatized_tokens = [wordnet.lemmatize(token, pos = 'v') for token in token_text]\n",
        "\n",
        "  return lemmatized_tokens\n",
        "\n",
        "\n"
      ],
      "metadata": {
        "id": "xrHGRJKJYDD3",
        "colab": {
          "base_uri": "https://localhost:8080/"
        },
        "outputId": "4899e00b-ffd4-4621-aef8-7531c2e225bf"
      },
      "execution_count": null,
      "outputs": [
        {
          "output_type": "stream",
          "name": "stderr",
          "text": [
            "[nltk_data] Downloading package averaged_perceptron_tagger to\n",
            "[nltk_data]     /root/nltk_data...\n",
            "[nltk_data]   Unzipping taggers/averaged_perceptron_tagger.zip.\n",
            "[nltk_data] Downloading package wordnet to /root/nltk_data...\n"
          ]
        }
      ]
    },
    {
      "cell_type": "code",
      "source": [
        "lemmatization(\"Should we go walking or swimming\".split())"
      ],
      "metadata": {
        "colab": {
          "base_uri": "https://localhost:8080/"
        },
        "id": "__-JiAizup8Y",
        "outputId": "bbf2b348-c1f3-48ed-f259-9a5d5783df20"
      },
      "execution_count": null,
      "outputs": [
        {
          "output_type": "execute_result",
          "data": {
            "text/plain": [
              "['Should', 'we', 'go', 'walk', 'or', 'swim']"
            ]
          },
          "metadata": {},
          "execution_count": 44
        }
      ]
    },
    {
      "cell_type": "markdown",
      "source": [
        "### Stemming:\n",
        "\n",
        "Also a token(word) reduction techniques. This techniques tries to reduce by chopping off a part of the word at the tail end.\n"
      ],
      "metadata": {
        "id": "pgAV2uuScjrv"
      }
    },
    {
      "cell_type": "markdown",
      "source": [
        "### Stemming Vs. Lemmatization.\n",
        "![stem-lemma.PNG](data:image/png;base64,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)"
      ],
      "metadata": {
        "id": "OiIUjk27c14d"
      }
    },
    {
      "cell_type": "code",
      "source": [
        "from nltk.stem import PorterStemmer\n",
        "\n",
        "def stemming(text):\n",
        "  \"\"\"\n",
        "  This function performs stemming operations.\n",
        "  Input Args:\n",
        "  token_text: list of tokenize text.\n",
        "  Returns:\n",
        "  stemm_tokes: list of stemmed tokens.\n",
        "  \"\"\"\n",
        "  porter = PorterStemmer()\n",
        "  stemm_tokens = []\n",
        "  for word in text:\n",
        "    stemm_tokens.append(porter.stem(word))\n",
        "  return stemm_tokens"
      ],
      "metadata": {
        "id": "Uk_4uzohcU8O"
      },
      "execution_count": null,
      "outputs": []
    },
    {
      "cell_type": "code",
      "source": [
        "#Test\n",
        "print(\"+++++++++++++++++++++++++++++++\" \"INPUT TOKENS\" \"++++++++++++++++++++++++++++++++++++++++++++++++++++++++\")\n",
        "token_text_test=['Connects','Connecting','Connections','Connected','Connection','Connectings','Connect']\n",
        "print(token_text_test)\n",
        "print(\"++++++++++++++++++\" \"LEMMATIZED TOKENS\" \"+++++++++++++++++++++++++++++++++++++++++++++++++++++++++++++++++\")\n",
        "lemma_tokens = lemmatization(token_text_test)\n",
        "print(lemma_tokens)\n",
        "print(\"+++++++++++++++++++++\" \"STEMMED TOKENS\" \"+++++++++++++++++++++++++++++++++++++\")\n",
        "stemmed_tokens = stemming(token_text_test)\n",
        "print(stemmed_tokens)\n"
      ],
      "metadata": {
        "colab": {
          "base_uri": "https://localhost:8080/"
        },
        "id": "tKkfEp2dcfdE",
        "outputId": "c58ee21b-9506-4aa8-e0e7-2e216c670032"
      },
      "execution_count": null,
      "outputs": [
        {
          "output_type": "stream",
          "name": "stdout",
          "text": [
            "+++++++++++++++++++++++++++++++INPUT TOKENS++++++++++++++++++++++++++++++++++++++++++++++++++++++++\n",
            "['Connects', 'Connecting', 'Connections', 'Connected', 'Connection', 'Connectings', 'Connect']\n",
            "++++++++++++++++++LEMMATIZED TOKENS+++++++++++++++++++++++++++++++++++++++++++++++++++++++++++++++++\n",
            "['Connects', 'Connecting', 'Connections', 'Connected', 'Connection', 'Connectings', 'Connect']\n",
            "+++++++++++++++++++++STEMMED TOKENS+++++++++++++++++++++++++++++++++++++\n",
            "['connect', 'connect', 'connect', 'connect', 'connect', 'connect', 'connect']\n"
          ]
        }
      ]
    },
    {
      "cell_type": "markdown",
      "source": [
        "### Lower order:\n"
      ],
      "metadata": {
        "id": "uK1FzD4ygThF"
      }
    },
    {
      "cell_type": "code",
      "source": [
        "def lower_order(text):\n",
        "  \"\"\"\n",
        "  This function converts all the text in input text to lower order.\n",
        "  Input Args:\n",
        "  token_text : input text.\n",
        "  Returns:\n",
        "  small_order_text : text converted to small/lower order.\n",
        "  \"\"\"\n",
        "  small_order_text = text.lower()\n",
        "  return small_order_text\n",
        "\n",
        "# Test:\n",
        "sample_text = \"This Is some Normalized TEXT\"\n",
        "sample_small = lower_order(sample_text)\n",
        "print(sample_small)\n"
      ],
      "metadata": {
        "colab": {
          "base_uri": "https://localhost:8080/"
        },
        "id": "BHhFyn8pgXYb",
        "outputId": "b60ccee9-bfee-40c2-8326-880d65e39573"
      },
      "execution_count": null,
      "outputs": [
        {
          "output_type": "stream",
          "name": "stdout",
          "text": [
            "this is some normalized text\n"
          ]
        }
      ]
    },
    {
      "cell_type": "markdown",
      "source": [
        "## Create Input Text Pipeline\n",
        "\n",
        "We will compile every basic cleaning steps in following one functions and implement with our datasets."
      ],
      "metadata": {
        "id": "gm5gOaLbezL3"
      }
    },
    {
      "cell_type": "markdown",
      "source": [
        "### Exercise-1:\n",
        "Read the provided data \"trump_tweets.csv\" and complete the followiing compilin function.\n"
      ],
      "metadata": {
        "id": "ksiS49tNmeWQ"
      }
    },
    {
      "cell_type": "markdown",
      "source": [
        "Read data:"
      ],
      "metadata": {
        "id": "8fkgiAOjm2Po"
      }
    },
    {
      "cell_type": "code",
      "source": [
        "data = pd.read_csv(\"/content/trum_tweet_sentiment_analysis.csv\", encoding=\"ISO-8859-1\")\n",
        "data.head()"
      ],
      "metadata": {
        "colab": {
          "base_uri": "https://localhost:8080/",
          "height": 206
        },
        "id": "1PWRFbTKm4Me",
        "outputId": "2f1e1366-3f2f-4d2b-96ea-2c502bf5beb1"
      },
      "execution_count": null,
      "outputs": [
        {
          "output_type": "execute_result",
          "data": {
            "text/plain": [
              "                                                text  Sentiment\n",
              "0  RT @JohnLeguizamo: #trump not draining swamp b...          0\n",
              "1  ICYMI: Hackers Rig FM Radio Stations To Play A...          0\n",
              "2  Trump protests: LGBTQ rally in New York https:...          1\n",
              "3  \"Hi I'm Piers Morgan. David Beckham is awful b...          0\n",
              "4  RT @GlennFranco68: Tech Firm Suing BuzzFeed fo...          0"
            ],
            "text/html": [
              "\n",
              "  <div id=\"df-8c1570a2-7a8c-433d-9c9b-190a30e659ad\" class=\"colab-df-container\">\n",
              "    <div>\n",
              "<style scoped>\n",
              "    .dataframe tbody tr th:only-of-type {\n",
              "        vertical-align: middle;\n",
              "    }\n",
              "\n",
              "    .dataframe tbody tr th {\n",
              "        vertical-align: top;\n",
              "    }\n",
              "\n",
              "    .dataframe thead th {\n",
              "        text-align: right;\n",
              "    }\n",
              "</style>\n",
              "<table border=\"1\" class=\"dataframe\">\n",
              "  <thead>\n",
              "    <tr style=\"text-align: right;\">\n",
              "      <th></th>\n",
              "      <th>text</th>\n",
              "      <th>Sentiment</th>\n",
              "    </tr>\n",
              "  </thead>\n",
              "  <tbody>\n",
              "    <tr>\n",
              "      <th>0</th>\n",
              "      <td>RT @JohnLeguizamo: #trump not draining swamp b...</td>\n",
              "      <td>0</td>\n",
              "    </tr>\n",
              "    <tr>\n",
              "      <th>1</th>\n",
              "      <td>ICYMI: Hackers Rig FM Radio Stations To Play A...</td>\n",
              "      <td>0</td>\n",
              "    </tr>\n",
              "    <tr>\n",
              "      <th>2</th>\n",
              "      <td>Trump protests: LGBTQ rally in New York https:...</td>\n",
              "      <td>1</td>\n",
              "    </tr>\n",
              "    <tr>\n",
              "      <th>3</th>\n",
              "      <td>\"Hi I'm Piers Morgan. David Beckham is awful b...</td>\n",
              "      <td>0</td>\n",
              "    </tr>\n",
              "    <tr>\n",
              "      <th>4</th>\n",
              "      <td>RT @GlennFranco68: Tech Firm Suing BuzzFeed fo...</td>\n",
              "      <td>0</td>\n",
              "    </tr>\n",
              "  </tbody>\n",
              "</table>\n",
              "</div>\n",
              "    <div class=\"colab-df-buttons\">\n",
              "\n",
              "  <div class=\"colab-df-container\">\n",
              "    <button class=\"colab-df-convert\" onclick=\"convertToInteractive('df-8c1570a2-7a8c-433d-9c9b-190a30e659ad')\"\n",
              "            title=\"Convert this dataframe to an interactive table.\"\n",
              "            style=\"display:none;\">\n",
              "\n",
              "  <svg xmlns=\"http://www.w3.org/2000/svg\" height=\"24px\" viewBox=\"0 -960 960 960\">\n",
              "    <path d=\"M120-120v-720h720v720H120Zm60-500h600v-160H180v160Zm220 220h160v-160H400v160Zm0 220h160v-160H400v160ZM180-400h160v-160H180v160Zm440 0h160v-160H620v160ZM180-180h160v-160H180v160Zm440 0h160v-160H620v160Z\"/>\n",
              "  </svg>\n",
              "    </button>\n",
              "\n",
              "  <style>\n",
              "    .colab-df-container {\n",
              "      display:flex;\n",
              "      gap: 12px;\n",
              "    }\n",
              "\n",
              "    .colab-df-convert {\n",
              "      background-color: #E8F0FE;\n",
              "      border: none;\n",
              "      border-radius: 50%;\n",
              "      cursor: pointer;\n",
              "      display: none;\n",
              "      fill: #1967D2;\n",
              "      height: 32px;\n",
              "      padding: 0 0 0 0;\n",
              "      width: 32px;\n",
              "    }\n",
              "\n",
              "    .colab-df-convert:hover {\n",
              "      background-color: #E2EBFA;\n",
              "      box-shadow: 0px 1px 2px rgba(60, 64, 67, 0.3), 0px 1px 3px 1px rgba(60, 64, 67, 0.15);\n",
              "      fill: #174EA6;\n",
              "    }\n",
              "\n",
              "    .colab-df-buttons div {\n",
              "      margin-bottom: 4px;\n",
              "    }\n",
              "\n",
              "    [theme=dark] .colab-df-convert {\n",
              "      background-color: #3B4455;\n",
              "      fill: #D2E3FC;\n",
              "    }\n",
              "\n",
              "    [theme=dark] .colab-df-convert:hover {\n",
              "      background-color: #434B5C;\n",
              "      box-shadow: 0px 1px 3px 1px rgba(0, 0, 0, 0.15);\n",
              "      filter: drop-shadow(0px 1px 2px rgba(0, 0, 0, 0.3));\n",
              "      fill: #FFFFFF;\n",
              "    }\n",
              "  </style>\n",
              "\n",
              "    <script>\n",
              "      const buttonEl =\n",
              "        document.querySelector('#df-8c1570a2-7a8c-433d-9c9b-190a30e659ad button.colab-df-convert');\n",
              "      buttonEl.style.display =\n",
              "        google.colab.kernel.accessAllowed ? 'block' : 'none';\n",
              "\n",
              "      async function convertToInteractive(key) {\n",
              "        const element = document.querySelector('#df-8c1570a2-7a8c-433d-9c9b-190a30e659ad');\n",
              "        const dataTable =\n",
              "          await google.colab.kernel.invokeFunction('convertToInteractive',\n",
              "                                                    [key], {});\n",
              "        if (!dataTable) return;\n",
              "\n",
              "        const docLinkHtml = 'Like what you see? Visit the ' +\n",
              "          '<a target=\"_blank\" href=https://colab.research.google.com/notebooks/data_table.ipynb>data table notebook</a>'\n",
              "          + ' to learn more about interactive tables.';\n",
              "        element.innerHTML = '';\n",
              "        dataTable['output_type'] = 'display_data';\n",
              "        await google.colab.output.renderOutput(dataTable, element);\n",
              "        const docLink = document.createElement('div');\n",
              "        docLink.innerHTML = docLinkHtml;\n",
              "        element.appendChild(docLink);\n",
              "      }\n",
              "    </script>\n",
              "  </div>\n",
              "\n",
              "\n",
              "<div id=\"df-fcd1f051-11f3-4076-8056-a9170b0db96a\">\n",
              "  <button class=\"colab-df-quickchart\" onclick=\"quickchart('df-fcd1f051-11f3-4076-8056-a9170b0db96a')\"\n",
              "            title=\"Suggest charts\"\n",
              "            style=\"display:none;\">\n",
              "\n",
              "<svg xmlns=\"http://www.w3.org/2000/svg\" height=\"24px\"viewBox=\"0 0 24 24\"\n",
              "     width=\"24px\">\n",
              "    <g>\n",
              "        <path d=\"M19 3H5c-1.1 0-2 .9-2 2v14c0 1.1.9 2 2 2h14c1.1 0 2-.9 2-2V5c0-1.1-.9-2-2-2zM9 17H7v-7h2v7zm4 0h-2V7h2v10zm4 0h-2v-4h2v4z\"/>\n",
              "    </g>\n",
              "</svg>\n",
              "  </button>\n",
              "\n",
              "<style>\n",
              "  .colab-df-quickchart {\n",
              "      --bg-color: #E8F0FE;\n",
              "      --fill-color: #1967D2;\n",
              "      --hover-bg-color: #E2EBFA;\n",
              "      --hover-fill-color: #174EA6;\n",
              "      --disabled-fill-color: #AAA;\n",
              "      --disabled-bg-color: #DDD;\n",
              "  }\n",
              "\n",
              "  [theme=dark] .colab-df-quickchart {\n",
              "      --bg-color: #3B4455;\n",
              "      --fill-color: #D2E3FC;\n",
              "      --hover-bg-color: #434B5C;\n",
              "      --hover-fill-color: #FFFFFF;\n",
              "      --disabled-bg-color: #3B4455;\n",
              "      --disabled-fill-color: #666;\n",
              "  }\n",
              "\n",
              "  .colab-df-quickchart {\n",
              "    background-color: var(--bg-color);\n",
              "    border: none;\n",
              "    border-radius: 50%;\n",
              "    cursor: pointer;\n",
              "    display: none;\n",
              "    fill: var(--fill-color);\n",
              "    height: 32px;\n",
              "    padding: 0;\n",
              "    width: 32px;\n",
              "  }\n",
              "\n",
              "  .colab-df-quickchart:hover {\n",
              "    background-color: var(--hover-bg-color);\n",
              "    box-shadow: 0 1px 2px rgba(60, 64, 67, 0.3), 0 1px 3px 1px rgba(60, 64, 67, 0.15);\n",
              "    fill: var(--button-hover-fill-color);\n",
              "  }\n",
              "\n",
              "  .colab-df-quickchart-complete:disabled,\n",
              "  .colab-df-quickchart-complete:disabled:hover {\n",
              "    background-color: var(--disabled-bg-color);\n",
              "    fill: var(--disabled-fill-color);\n",
              "    box-shadow: none;\n",
              "  }\n",
              "\n",
              "  .colab-df-spinner {\n",
              "    border: 2px solid var(--fill-color);\n",
              "    border-color: transparent;\n",
              "    border-bottom-color: var(--fill-color);\n",
              "    animation:\n",
              "      spin 1s steps(1) infinite;\n",
              "  }\n",
              "\n",
              "  @keyframes spin {\n",
              "    0% {\n",
              "      border-color: transparent;\n",
              "      border-bottom-color: var(--fill-color);\n",
              "      border-left-color: var(--fill-color);\n",
              "    }\n",
              "    20% {\n",
              "      border-color: transparent;\n",
              "      border-left-color: var(--fill-color);\n",
              "      border-top-color: var(--fill-color);\n",
              "    }\n",
              "    30% {\n",
              "      border-color: transparent;\n",
              "      border-left-color: var(--fill-color);\n",
              "      border-top-color: var(--fill-color);\n",
              "      border-right-color: var(--fill-color);\n",
              "    }\n",
              "    40% {\n",
              "      border-color: transparent;\n",
              "      border-right-color: var(--fill-color);\n",
              "      border-top-color: var(--fill-color);\n",
              "    }\n",
              "    60% {\n",
              "      border-color: transparent;\n",
              "      border-right-color: var(--fill-color);\n",
              "    }\n",
              "    80% {\n",
              "      border-color: transparent;\n",
              "      border-right-color: var(--fill-color);\n",
              "      border-bottom-color: var(--fill-color);\n",
              "    }\n",
              "    90% {\n",
              "      border-color: transparent;\n",
              "      border-bottom-color: var(--fill-color);\n",
              "    }\n",
              "  }\n",
              "</style>\n",
              "\n",
              "  <script>\n",
              "    async function quickchart(key) {\n",
              "      const quickchartButtonEl =\n",
              "        document.querySelector('#' + key + ' button');\n",
              "      quickchartButtonEl.disabled = true;  // To prevent multiple clicks.\n",
              "      quickchartButtonEl.classList.add('colab-df-spinner');\n",
              "      try {\n",
              "        const charts = await google.colab.kernel.invokeFunction(\n",
              "            'suggestCharts', [key], {});\n",
              "      } catch (error) {\n",
              "        console.error('Error during call to suggestCharts:', error);\n",
              "      }\n",
              "      quickchartButtonEl.classList.remove('colab-df-spinner');\n",
              "      quickchartButtonEl.classList.add('colab-df-quickchart-complete');\n",
              "    }\n",
              "    (() => {\n",
              "      let quickchartButtonEl =\n",
              "        document.querySelector('#df-fcd1f051-11f3-4076-8056-a9170b0db96a button');\n",
              "      quickchartButtonEl.style.display =\n",
              "        google.colab.kernel.accessAllowed ? 'block' : 'none';\n",
              "    })();\n",
              "  </script>\n",
              "</div>\n",
              "\n",
              "    </div>\n",
              "  </div>\n"
            ],
            "application/vnd.google.colaboratory.intrinsic+json": {
              "type": "dataframe",
              "variable_name": "data"
            }
          },
          "metadata": {},
          "execution_count": 49
        }
      ]
    },
    {
      "cell_type": "code",
      "source": [
        "data_cleaning = data[\"text\"].dropna()"
      ],
      "metadata": {
        "id": "wIJxmcoyoTar"
      },
      "execution_count": null,
      "outputs": []
    },
    {
      "cell_type": "code",
      "source": [
        "data_cleaning[0]"
      ],
      "metadata": {
        "colab": {
          "base_uri": "https://localhost:8080/",
          "height": 35
        },
        "id": "M5aB2WuioZlS",
        "outputId": "2930f6fb-35df-458b-cc28-16189d8b2581"
      },
      "execution_count": null,
      "outputs": [
        {
          "output_type": "execute_result",
          "data": {
            "text/plain": [
              "'RT @JohnLeguizamo: #trump not draining swamp but our taxpayer dollars on his trips to advertise his properties! @realDonaldTrumpÂ\\x85 https://t.co/gFBvUkMX9z'"
            ],
            "application/vnd.google.colaboratory.intrinsic+json": {
              "type": "string"
            }
          },
          "metadata": {},
          "execution_count": 51
        }
      ]
    },
    {
      "cell_type": "code",
      "source": [
        "def text_cleaning_pipeline(dataset, rule = \"lemmatize\"):\n",
        "  \"\"\"\n",
        "  This...\n",
        "  \"\"\"\n",
        "  data = dataset\n",
        "  # Convert the input to small/lower order.\n",
        "  data = lower_order(data)\n",
        "  # Remove URLs\n",
        "  data = remove_urls(data)\n",
        "  # Remove emojis\n",
        "  data = remove_emoji(data)\n",
        "  # Remove all other unwanted characters.\n",
        "  data = removeunwanted_characters(data)\n",
        "  # Create tokens.\n",
        "  tokens = data.split()\n",
        "  # Remove stopwords:\n",
        "  tokens = remove_stopwords(tokens)\n",
        "  if rule == \"lemmatize\":\n",
        "    tokens =  lemmatization(tokens)\n",
        "  elif rule == \"stem\":\n",
        "    tokens = stemming(tokens)\n",
        "  else:\n",
        "    print(\"Pick between lemmatize or stem\")\n",
        "\n",
        "\n",
        "  return \" \".join(tokens)\n"
      ],
      "metadata": {
        "id": "gvOzV_UOeY01"
      },
      "execution_count": null,
      "outputs": []
    },
    {
      "cell_type": "code",
      "source": [
        "sample = \"Hello @gabe_flomo 👋🏾, I still want us to hit that new sushi spot??? LMK when you're free cuz I can't go this or next weekend since I'll be swimming!!! #sushiBros #rawFish #🍱\"\n",
        "print(text_cleaning_pipeline(sample))"
      ],
      "metadata": {
        "colab": {
          "base_uri": "https://localhost:8080/"
        },
        "id": "Z8o3rIantn1v",
        "outputId": "8176909b-732d-4a77-8ea3-a52883657959"
      },
      "execution_count": null,
      "outputs": [
        {
          "output_type": "stream",
          "name": "stdout",
          "text": [
            "hello still want us hit new sushi spot lmk youre free cuz cant go next weekend since ill swim\n"
          ]
        }
      ]
    },
    {
      "cell_type": "code",
      "source": [
        "test = data[\"text\"][0]"
      ],
      "metadata": {
        "id": "J8TNtdgkrrTr"
      },
      "execution_count": null,
      "outputs": []
    },
    {
      "cell_type": "code",
      "source": [
        "print(text_cleaning_pipeline(test))"
      ],
      "metadata": {
        "colab": {
          "base_uri": "https://localhost:8080/"
        },
        "id": "QbB3eetRth4B",
        "outputId": "8a67a313-a651-47ce-c3fe-e5e37b708cd9"
      },
      "execution_count": null,
      "outputs": [
        {
          "output_type": "stream",
          "name": "stdout",
          "text": [
            "rtnot drain swamp taxpayer dollars trip advertise properties\n"
          ]
        }
      ]
    },
    {
      "cell_type": "code",
      "source": [
        "cleaned_tokens = data[\"text\"].apply(lambda dataset: text_cleaning_pipeline(dataset))\n"
      ],
      "metadata": {
        "id": "ItgRgKgLoj0K"
      },
      "execution_count": null,
      "outputs": []
    },
    {
      "cell_type": "code",
      "source": [
        "cleaned_tokens[0]"
      ],
      "metadata": {
        "colab": {
          "base_uri": "https://localhost:8080/",
          "height": 35
        },
        "id": "R7gqb99rpC3y",
        "outputId": "03359fa1-6bcf-4108-86fa-984470e51521"
      },
      "execution_count": null,
      "outputs": [
        {
          "output_type": "execute_result",
          "data": {
            "text/plain": [
              "'rtnot drain swamp taxpayer dollars trip advertise properties'"
            ],
            "application/vnd.google.colaboratory.intrinsic+json": {
              "type": "string"
            }
          },
          "metadata": {},
          "execution_count": 63
        }
      ]
    },
    {
      "cell_type": "code",
      "source": [],
      "metadata": {
        "id": "TeQOQgCag67U"
      },
      "execution_count": null,
      "outputs": []
    }
  ]
}