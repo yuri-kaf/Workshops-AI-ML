{
  "nbformat": 4,
  "nbformat_minor": 0,
  "metadata": {
    "colab": {
      "provenance": []
    },
    "kernelspec": {
      "name": "python3",
      "display_name": "Python 3"
    },
    "language_info": {
      "name": "python"
    }
  },
  "cells": [
    {
      "cell_type": "markdown",
      "source": [
        "Ashim Kafle Worksheet-6\n",
        "\n"
      ],
      "metadata": {
        "id": "xlxAMZk_w9rs"
      }
    },
    {
      "cell_type": "code",
      "execution_count": null,
      "metadata": {
        "id": "3y3ocbEIvU5y"
      },
      "outputs": [],
      "source": []
    }
  ]
}